{
 "cells": [
  {
   "cell_type": "markdown",
   "metadata": {},
   "source": [
    "### 【問題1】SimpleRNNのフォワードプロパゲーション実装\n",
    "### 【問題2】小さな配列でのフォワードプロパゲーションの実験"
   ]
  },
  {
   "cell_type": "code",
   "execution_count": 22,
   "metadata": {},
   "outputs": [
    {
     "name": "stdout",
     "output_type": "stream",
     "text": [
      "出力 [[0.79494228 0.81839002 0.83939649 0.85584174]]\n"
     ]
    }
   ],
   "source": [
    "import numpy as np\n",
    "\n",
    "class SimpleRNN:    \n",
    "    def __init__(self):        \n",
    "        self.w_x = np.array([[1, 3, 5, 7], [3, 5, 7, 8]])/100 # (n_features, n_nodes)\n",
    "        self.w_h = np.array([[1, 3, 5, 7], [2, 4, 6, 8], [3, 5, 7, 8], [4, 6, 8, 10]])/100 # (n_nodes, n_nodes)\n",
    "        self.b = np.array([1, 1, 1, 1]) # (n_nodes,)\n",
    "        \n",
    "    def forward(self,X, h=np.zeros((1, 4))):\n",
    "        self.A = X @ self.w_x + h @ self.w_h + self.b\n",
    "        return Tanh(self.A), Softmax(self.A)\n",
    "\n",
    "#活性化関数（ハイパボリックタンジェント）\n",
    "def Tanh(A): \n",
    "    output = np.tanh(A)  \n",
    "    return output\n",
    "\n",
    "#ソフトマックス関数\n",
    "def Softmax(A):\n",
    "    A -= np.max(A)\n",
    "    ex = np.exp(A)\n",
    "    return ex / (np.sum(ex, axis=1)).reshape(-1,1)\n",
    "           \n",
    "#レイヤーの設計\n",
    "RNN1 = SimpleRNN()\n",
    "RNN2 = SimpleRNN()\n",
    "RNN3 = SimpleRNN()\n",
    "                        \n",
    "#フォワードプロパゲーション\n",
    "x = np.array([[[1, 2], [2, 3], [3, 4]]])/100\n",
    "t = 2\n",
    "h1, y1 = RNN1.forward(x[:, t-2, :])\n",
    "h2, y2 = RNN2.forward(x[:, t-1, :], h1)\n",
    "h3, y3 = RNN3.forward(x[:, t, :], h2)\n",
    "\n",
    "print(\"出力\", h3)\n"
   ]
  },
  {
   "cell_type": "code",
   "execution_count": null,
   "metadata": {},
   "outputs": [],
   "source": []
  }
 ],
 "metadata": {
  "kernelspec": {
   "display_name": "Python 3",
   "language": "python",
   "name": "python3"
  },
  "language_info": {
   "codemirror_mode": {
    "name": "ipython",
    "version": 3
   },
   "file_extension": ".py",
   "mimetype": "text/x-python",
   "name": "python",
   "nbconvert_exporter": "python",
   "pygments_lexer": "ipython3",
   "version": "3.7.9"
  }
 },
 "nbformat": 4,
 "nbformat_minor": 4
}
