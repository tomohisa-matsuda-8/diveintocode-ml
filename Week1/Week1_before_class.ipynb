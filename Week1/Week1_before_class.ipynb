{
 "cells": [
  {
   "cell_type": "code",
   "execution_count": 7,
   "metadata": {},
   "outputs": [
    {
     "name": "stdout",
     "output_type": "stream",
     "text": [
      "厚さ： 703687441.77664メートル\n"
     ]
    }
   ],
   "source": [
    "#【問題1】べき乗の算術演算子を使用して作成\n",
    "\n",
    "THICKNESS = 0.00008\n",
    "folding_num = 43\n",
    "folded_thickness = THICKNESS*(2**folding_num)\n",
    "print(\"厚さ： {}メートル\".format(folded_thickness))"
   ]
  },
  {
   "cell_type": "code",
   "execution_count": 1,
   "metadata": {},
   "outputs": [
    {
     "name": "stdout",
     "output_type": "stream",
     "text": [
      "厚さ： 70.37万キロメートル\n"
     ]
    }
   ],
   "source": [
    "#【問題2】単位の変換\n",
    "\n",
    "THICKNESS = 0.00008\n",
    "folding_num = 43\n",
    "folded_thickness = THICKNESS*(2**folding_num)\n",
    "print(\"厚さ： {:.2f}万キロメートル\".format(folded_thickness/10000000))"
   ]
  },
  {
   "cell_type": "code",
   "execution_count": 4,
   "metadata": {},
   "outputs": [
    {
     "name": "stdout",
     "output_type": "stream",
     "text": [
      "厚さ： 70.37万キロメートル\n"
     ]
    }
   ],
   "source": [
    "#【問題3】for文を使用して作成\n",
    "\n",
    "THICKNESS = 0.00008\n",
    "folding_num = 43\n",
    "\n",
    "folded_thickness = THICKNESS\n",
    "for i in range(folding_num):\n",
    "    folded_thickness *= 2\n",
    "\n",
    "print(\"厚さ： {:.2f}万キロメートル\".format(folded_thickness/10000000))"
   ]
  },
  {
   "cell_type": "code",
   "execution_count": 3,
   "metadata": {},
   "outputs": [
    {
     "name": "stdout",
     "output_type": "stream",
     "text": [
      "べき乗計算 実行時間　：0.0000720024秒\n",
      "繰り返し計算 実行時間：0.0002677441秒\n"
     ]
    }
   ],
   "source": [
    "#【問題4】計算時間の比較 timeモジュールを用いる。繰り返し回数を1000回に設定\n",
    "\n",
    "import time\n",
    "THICKNESS = 0.00008\n",
    "folding_num = 1000\n",
    "\n",
    "#べき乗計算の計算時間の測定\n",
    "start = time.time()\n",
    "folded_thickness = THICKNESS*(2**folding_num)\n",
    "elapsed_time = time.time() - start\n",
    "#print(\"厚さ： {:.2f}万キロメートル\".format(folded_thickness/10000000))\n",
    "print(\"べき乗計算 実行時間　：{:.10f}秒\".format(elapsed_time))\n",
    "\n",
    "#繰り返し計算の計算時間の測定\n",
    "start = time.time()\n",
    "folded_thickness = THICKNESS\n",
    "for i in range(folding_num):\n",
    "    folded_thickness *= 2\n",
    "elapsed_time = time.time() - start\n",
    "#print(\"厚さ： {:.2f}万キロメートル\".format(folded_thickness/10000000))\n",
    "print(\"繰り返し計算 実行時間：{:.10f}秒\".format(elapsed_time))"
   ]
  },
  {
   "cell_type": "code",
   "execution_count": 12,
   "metadata": {},
   "outputs": [
    {
     "name": "stdout",
     "output_type": "stream",
     "text": [
      "351 ns ± 5.79 ns per loop (mean ± std. dev. of 7 runs, 1000000 loops each)\n"
     ]
    }
   ],
   "source": [
    "%%timeit\n",
    "#【問題4】計算時間の比較 magic commandを用いる。\n",
    "#べき乗計算の計算時間の測定\n",
    "THICKNESS = 0.00008\n",
    "folding_num = 43\n",
    "folded_thickness = THICKNESS*(2**folding_num)"
   ]
  },
  {
   "cell_type": "code",
   "execution_count": 13,
   "metadata": {},
   "outputs": [
    {
     "name": "stdout",
     "output_type": "stream",
     "text": [
      "1.63 µs ± 72.9 ns per loop (mean ± std. dev. of 7 runs, 1000000 loops each)\n"
     ]
    }
   ],
   "source": [
    "%%timeit\n",
    "#【問題4】計算時間の比較 magic commandを用いる。\n",
    "#繰り返し計算の計算時間の測定\n",
    "THICKNESS = 0.00008\n",
    "folding_num = 43\n",
    "folded_thickness = 0.00008\n",
    "\n",
    "for i in range(folding_num):\n",
    "    folded_thickness *= 2"
   ]
  },
  {
   "cell_type": "code",
   "execution_count": 16,
   "metadata": {},
   "outputs": [
    {
     "name": "stdout",
     "output_type": "stream",
     "text": [
      "生成したリストの長さは、44です。\n"
     ]
    }
   ],
   "source": [
    "#【問題5】リストへの保存\n",
    "\n",
    "THICKNESS = 0.00008\n",
    "folding_num = 43\n",
    "\n",
    "folded_thickness = THICKNESS\n",
    "folded_thickness_list = []\n",
    "folded_thickness_list.append(THICKNESS)\n",
    "\n",
    "#繰り返し計算\n",
    "for i in range(folding_num):\n",
    "    folded_thickness *= 2\n",
    "    folded_thickness_list.append(folded_thickness)\n",
    "\n",
    "print(\"生成したリストの長さは、{}です。\".format(len(folded_thickness_list)))"
   ]
  },
  {
   "cell_type": "code",
   "execution_count": 17,
   "metadata": {},
   "outputs": [
    {
     "data": {
      "image/png": "[encoded data removed]",
      "text/plain": [
       "<Figure size 432x288 with 1 Axes>"
      ]
     },
     "metadata": {
      "needs_background": "light"
     },
     "output_type": "display_data"
    }
   ],
   "source": [
    "#【問題6】折れ線グラフの表示\n",
    "\n",
    "import matplotlib.pyplot as plt\n",
    "%matplotlib inline\n",
    "\n",
    "THICKNESS = 0.00008\n",
    "folding_num = 43\n",
    "\n",
    "folded_thickness = THICKNESS\n",
    "folded_thickness_list = []\n",
    "folded_thickness_list.append(THICKNESS)\n",
    "\n",
    "#繰り返し計算\n",
    "for i in range(folding_num):\n",
    "    folded_thickness *= 2\n",
    "    folded_thickness_list.append(folded_thickness)\n",
    "\n",
    "#グラフ描画\n",
    "plt.title(\"thickness of folded paper\")\n",
    "plt.xlabel(\"number of folds\")\n",
    "plt.ylabel(\"thickness[m]\")\n",
    "plt.plot(folded_thickness_list) # 「リスト名」のところにリストの変数名を入れる\n",
    "plt.show()"
   ]
  },
  {
   "cell_type": "code",
   "execution_count": 5,
   "metadata": {},
   "outputs": [
    {
     "data": {
      "image/png": "[encoded data removed]",
      "text/plain": [
       "<Figure size 432x288 with 1 Axes>"
      ]
     },
     "metadata": {
      "needs_background": "light"
     },
     "output_type": "display_data"
    }
   ],
   "source": [
    "#【問題7】グラフのカスタマイズ\n",
    "\n",
    "import matplotlib.pyplot as plt\n",
    "%matplotlib inline\n",
    "\n",
    "THICKNESS = 0.00008/1000/10000\n",
    "folding_num = 43\n",
    "\n",
    "folded_thickness = THICKNESS\n",
    "folded_thickness_list = []\n",
    "folded_thickness_list.append(THICKNESS)\n",
    "\n",
    "#繰り返し計算\n",
    "for i in range(folding_num):\n",
    "    folded_thickness *= 2\n",
    "    folded_thickness_list.append(folded_thickness)\n",
    "\n",
    "#グラフ描画\n",
    "plt.title(\"thickness of folded paper\")\n",
    "plt.xlabel(\"number of folds\")\n",
    "plt.ylabel(\"thickness[km/10000]\")\n",
    "plt.tick_params(labelsize=20)\n",
    "plt.hlines([0, 20, 40, 60, 80], -5, 45, \"blue\", linestyles='dashed', alpha=0.5)\n",
    "plt.hlines([38.44], -5, 45, \"red\", linestyles='dashed', alpha=1, label='Distance to the moon')\n",
    "plt.vlines([0, 20, 40], -10, 81, \"blue\", linestyles='dashed', alpha=0.5)\n",
    "plt.plot(folded_thickness_list, color='m', marker='o')\n",
    "plt.legend()\n",
    "plt.show()"
   ]
  },
  {
   "cell_type": "code",
   "execution_count": null,
   "metadata": {},
   "outputs": [],
   "source": []
  }
 ],
 "metadata": {
  "kernelspec": {
   "display_name": "Python 3",
   "language": "python",
   "name": "python3"
  },
  "language_info": {
   "codemirror_mode": {
    "name": "ipython",
    "version": 3
   },
   "file_extension": ".py",
   "mimetype": "text/x-python",
   "name": "python",
   "nbconvert_exporter": "python",
   "pygments_lexer": "ipython3",
   "version": "3.8.3"
  }
 },
 "nbformat": 4,
 "nbformat_minor": 4
}
