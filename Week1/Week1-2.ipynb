{
 "cells": [
  {
   "cell_type": "code",
   "execution_count": 11,
   "metadata": {},
   "outputs": [
    {
     "name": "stdout",
     "output_type": "stream",
     "text": [
      "26回目で富士山を超えました。\n"
     ]
    }
   ],
   "source": [
    "#【問題1】富士山を超える最小の折る回数\n",
    "THICKNESS = 0.00008\n",
    "FUJISAN_HEIGHT = 3776\n",
    "\n",
    "folded_thickness = THICKNESS\n",
    "folded_thickness_list = []\n",
    "folded_thickness_list.append(folded_thickness)\n",
    "\n",
    "count = 0\n",
    "while folded_thickness_list[-1] < FUJISAN_HEIGHT:\n",
    "    folded_thickness *= 2\n",
    "    folded_thickness_list.append(folded_thickness)\n",
    "    count += 1\n",
    "\n",
    "print(\"{}回目で富士山を超えました。\".format(count))\n"
   ]
  },
  {
   "cell_type": "code",
   "execution_count": 14,
   "metadata": {},
   "outputs": [
    {
     "name": "stdout",
     "output_type": "stream",
     "text": [
      "69回目で指定した距離を超えました。\n"
     ]
    }
   ],
   "source": [
    "#【問題2】任意の厚さに対応した関数を作成\n",
    "\n",
    "def compute_thickness_distance(thickness, distance):\n",
    "\n",
    "    folded_thickness = thickness\n",
    "    folded_thickness_list = []\n",
    "    folded_thickness_list.append(folded_thickness)\n",
    "\n",
    "    \n",
    "    count = 0\n",
    "    while folded_thickness_list[-1] < distance:\n",
    "        folded_thickness *= 2\n",
    "        folded_thickness_list.append(folded_thickness)\n",
    "        count += 1\n",
    "    \n",
    "    return count\n",
    "\n",
    "#「最も近い太陽以外の恒星」に到達するには紙を何回折る必要があるか計算する。（必要な回数は変数 :over_numに格納する）\n",
    "#「最も近い太陽以外の恒星」は、プロキシマ・ケンタウリで4.243光年離れている。\n",
    "over_num = compute_thickness_distance(thickness = 0.00008, distance = 4.243 * 9.461e+15)\n",
    "print(\"{}回目で指定した距離を超えました。\".format(over_num))"
   ]
  },
  {
   "cell_type": "code",
   "execution_count": 20,
   "metadata": {},
   "outputs": [
    {
     "name": "stdout",
     "output_type": "stream",
     "text": [
      "富士山に届くために必要な紙の長さは188646348487.24017[m]です。\n",
      "月に届くために必要な紙の長さは3.240919444170781e+21[m]です。\n",
      "最も近い太陽以外の恒星に届くために必要な紙の長さは1.4595803601100348e+37[m]です。\n"
     ]
    }
   ],
   "source": [
    "#【問題3】必要な紙の長さ\n",
    "import math\n",
    "math.pi\n",
    "\n",
    "def compute_requierd_length(thickness, distance):\n",
    "\n",
    "    folded_thickness = thickness\n",
    "    folded_thickness_list = []\n",
    "    folded_thickness_list.append(folded_thickness)\n",
    "    \n",
    "    count = 0\n",
    "    while folded_thickness_list[-1] < distance:\n",
    "        folded_thickness *= 2\n",
    "        folded_thickness_list.append(folded_thickness)\n",
    "        count += 1\n",
    "\n",
    "    required_length = (math.pi * thickness) / 6 * (2**count + 4) * (2**count - 1) \n",
    "\n",
    "    return required_length\n",
    "\n",
    "required_length = compute_requierd_length(thickness = 0.00008, distance = 3776)\n",
    "print(\"富士山に届くために必要な紙の長さは{}[m]です。\".format(required_length))\n",
    "\n",
    "required_length = compute_requierd_length(thickness = 0.00008, distance = 384400000)\n",
    "print(\"月に届くために必要な紙の長さは{}[m]です。\".format(required_length))\n",
    "\n",
    "required_length = compute_requierd_length(thickness = 0.00008, distance = 4.243 * 9.461e+15)\n",
    "print(\"最も近い太陽以外の恒星に届くために必要な紙の長さは{}[m]です。\".format(required_length))\n",
    "\n",
    "\n"
   ]
  }
 ],
 "metadata": {
  "kernelspec": {
   "display_name": "Python 3",
   "language": "python",
   "name": "python3"
  },
  "language_info": {
   "codemirror_mode": {
    "name": "ipython",
    "version": 3
   },
   "file_extension": ".py",
   "mimetype": "text/x-python",
   "name": "python",
   "nbconvert_exporter": "python",
   "pygments_lexer": "ipython3",
   "version": "3.8.3"
  }
 },
 "nbformat": 4,
 "nbformat_minor": 4
}
