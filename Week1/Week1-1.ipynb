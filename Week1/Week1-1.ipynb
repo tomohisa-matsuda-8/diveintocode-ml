{
 "cells": [
  {
   "cell_type": "code",
   "execution_count": 1,
   "metadata": {
    "scrolled": true
   },
   "outputs": [
    {
     "data": {
      "image/png": "[encoded data removed]",
      "text/plain": [
       "<Figure size 432x288 with 1 Axes>"
      ]
     },
     "metadata": {
      "needs_background": "light"
     },
     "output_type": "display_data"
    }
   ],
   "source": [
    "#【問題1】100日目の米粒の数\n",
    "\n",
    "import matplotlib.pyplot as plt\n",
    "%matplotlib inline\n",
    "\n",
    "INITIAL_RICE = 1\n",
    "DAYS = 100\n",
    "\n",
    "num_rice = INITIAL_RICE\n",
    "num_rice_list = []\n",
    "num_rice_list.append(INITIAL_RICE)\n",
    "\n",
    "total_rice = INITIAL_RICE\n",
    "total_rice_list = []\n",
    "total_rice_list.append(total_rice)\n",
    "\n",
    "#繰り返し計算\n",
    "for i in range(DAYS - 1):\n",
    "    num_rice *= 2\n",
    "    num_rice_list.append(num_rice)\n",
    "    total_rice += num_rice\n",
    "    total_rice_list.append(total_rice)\n",
    "\n",
    "#グラフ描画\n",
    "plt.title(\"amout of rice\")\n",
    "plt.xlabel(\"elapsed days\")\n",
    "plt.ylabel(\"amout of rice\")\n",
    "plt.plot(num_rice_list, color = 'red', label='rice a day') \n",
    "plt.plot(total_rice_list, color = 'blue', label='amount of rice') \n",
    "plt.legend()\n",
    "plt.show()"
   ]
  },
  {
   "cell_type": "code",
   "execution_count": 41,
   "metadata": {},
   "outputs": [
    {
     "data": {
      "image/png": "[encoded data removed]",
      "text/plain": [
       "<Figure size 432x288 with 1 Axes>"
      ]
     },
     "metadata": {
      "needs_background": "light"
     },
     "output_type": "display_data"
    }
   ],
   "source": [
    "#【問題2】100日目以外の米粒の数\n",
    "\n",
    "import matplotlib.pyplot as plt\n",
    "%matplotlib inline\n",
    "\n",
    "def compute_sorori_shinzaemon(day=100):\n",
    "    \"\"\"\n",
    "    曽呂利新左衛門の米の逸話を検証する関数。日にちごとの米の粒の数を計算する。\n",
    "\n",
    "    Parameteres\n",
    "    --------------\n",
    "    day: int\n",
    "        米を貰う日数 (default : 100)\n",
    "\n",
    "    Returns\n",
    "    --------------\n",
    "    list_n_grains : list\n",
    "        ある日に貰う米の数のリスト（リストの長さはdayに等しくなる）\n",
    "    list_total_grains : list\n",
    "        ある日までに累計で貰う米の数のリスト（リストの長さはdayに等しくなる）\n",
    "    \"\"\"\n",
    "\n",
    "    INITIAL_RICE = 1\n",
    "\n",
    "    num_rice = INITIAL_RICE\n",
    "    list_n_grains = []\n",
    "    list_n_grains.append(INITIAL_RICE)\n",
    "\n",
    "    total_rice = INITIAL_RICE\n",
    "    list_total_grains = []\n",
    "    list_total_grains.append(total_rice)\n",
    "\n",
    "    #繰り返し計算\n",
    "    for i in range(day - 1):\n",
    "        num_rice *= 2\n",
    "        list_n_grains.append(num_rice)\n",
    "        total_rice += num_rice\n",
    "        list_total_grains.append(total_rice)\n",
    "    \n",
    "    return list_n_grains, list_total_grains\n",
    "\n",
    "list_n_grains, list_total_grains = compute_sorori_shinzaemon(day=15)\n",
    "\n",
    "#グラフ描画\n",
    "plt.title(\"amout of rice\")\n",
    "plt.xlabel(\"elapsed days\")\n",
    "plt.ylabel(\"amout of rice\")\n",
    "plt.plot(list_n_grains, color = 'red', label='rice a day') \n",
    "plt.plot(list_total_grains, color = 'blue', label='amount of rice') \n",
    "plt.legend()\n",
    "plt.show()"
   ]
  },
  {
   "cell_type": "code",
   "execution_count": 42,
   "metadata": {},
   "outputs": [
    {
     "name": "stdout",
     "output_type": "stream",
     "text": [
      "受講生全員がもらえる米で生活できる日数は3197097401626464129248518995968日です。\n"
     ]
    }
   ],
   "source": [
    "#【問題3】貰える米で何人が何日生活できるか\n",
    "\n",
    "def compute_sorori_shinzaemon(day=100):\n",
    "    \"\"\"\n",
    "    曽呂利新左衛門の米の逸話を検証する関数。日にちごとの米の粒の数を計算する。\n",
    "\n",
    "    Parameteres\n",
    "    --------------\n",
    "    day: int\n",
    "        米を貰う日数 (default : 100)\n",
    "\n",
    "    Returns\n",
    "    --------------\n",
    "    list_n_grains : list\n",
    "        ある日に貰う米の数のリスト（リストの長さはdayに等しくなる）\n",
    "    list_total_grains : list\n",
    "        ある日までに累計で貰う米の数のリスト（リストの長さはdayに等しくなる）\n",
    "    \"\"\"\n",
    "\n",
    "    INITIAL_RICE = 1\n",
    "\n",
    "    num_rice = INITIAL_RICE\n",
    "    list_n_grains = []\n",
    "    list_n_grains.append(INITIAL_RICE)\n",
    "\n",
    "    total_rice = INITIAL_RICE\n",
    "    list_total_grains = []\n",
    "    list_total_grains.append(total_rice)\n",
    "\n",
    "    #繰り返し計算\n",
    "    for i in range(day - 1):\n",
    "        num_rice *= 2\n",
    "        list_n_grains.append(num_rice)\n",
    "        total_rice += num_rice\n",
    "        list_total_grains.append(total_rice)\n",
    "    \n",
    "    return list_n_grains, list_total_grains\n",
    "\n",
    "def compute_living_days(num_rice, human):\n",
    "\n",
    "    \"\"\"\"\n",
    "    生きるために必要な米粒の数の計算根拠\n",
    "\n",
    "    ①日本医師会サイト（下記リンク）より、３０〜49才の男性（身体活動レベルⅠ）の\n",
    "        1日に必要な推定エネルギー必要量は2295kcalとなる。\n",
    "        本課題では、この数値を生きるために必要なカロリー量とする。\n",
    "        https://www.med.or.jp/forest/health/eat/01.html\n",
    "　　　　    ※MEF2101受講生の平均的な人物像として、３０〜49才の男性を採用した。\n",
    "    ②公益社団法人 米穀安定供給確保支援機構のサイト（下記リンク）によると、\n",
    "        茶碗１杯で150g、3250粒という記載がある。\n",
    "        https://www.komenet.jp/_qa/chawanippai/chawan_ippai02.html\n",
    "       この数値を採用し 米一粒から、150g/3250粒 =  0.046gのご飯を作ることができるとする。\n",
    "    ③カロリースリム(下記リンク)というサイトによると、\n",
    "　　　　    ご飯1グラムあたり、1.68kcalという記載がある。\n",
    "        https://calorie.slism.jp/101088/\n",
    "    \n",
    "    上記①〜③より、2295kcal / 1.68kcal/g ≒ 1366g\n",
    "                               1366g / 0.046g/粒 ≒ 29696粒\n",
    "    となり、受講生人数（１４人）倍すると、\n",
    "    29696*14= 415,744粒が1日に必要となる。\n",
    "    \"\"\"\n",
    "\n",
    "    #1日に必要な推定エネルギー必要量\n",
    "    REQUIRED_ENERGY_A_DAY = 2295\n",
    "    #米一粒からできるご飯の量（g）\n",
    "    MASS_FROM_A_GRAIN_OF_RICE = 0.046\n",
    "    #ご飯1gあたりのカロリー\n",
    "    ENERGY_GOHAN = 1.68\n",
    "\n",
    "    #受講生全員が1日生きるために必要な米粒の数\n",
    "    required_rice = (REQUIRED_ENERGY_A_DAY / ENERGY_GOHAN / MASS_FROM_A_GRAIN_OF_RICE) * human\n",
    "    return int (num_rice / required_rice)\n",
    "\n",
    "\n",
    "#受講コースの日数：１２０日とした場合の貰える米の計算\n",
    "list_n_grains, list_total_grains = compute_sorori_shinzaemon(day=120)\n",
    "\n",
    "#貰えた米と受講生数１４人から、生きられる日数を計算\n",
    "living_days = compute_living_days(num_rice=list_total_grains[-1], human=14 )\n",
    "print(\"受講生全員がもらえる米で生活できる日数は{}日です。\".format(living_days))\n"
   ]
  },
  {
   "cell_type": "code",
   "execution_count": null,
   "metadata": {},
   "outputs": [],
   "source": []
  }
 ],
 "metadata": {
  "kernelspec": {
   "display_name": "Python 3",
   "language": "python",
   "name": "python3"
  },
  "language_info": {
   "codemirror_mode": {
    "name": "ipython",
    "version": 3
   },
   "file_extension": ".py",
   "mimetype": "text/x-python",
   "name": "python",
   "nbconvert_exporter": "python",
   "pygments_lexer": "ipython3",
   "version": "3.8.3"
  }
 },
 "nbformat": 4,
 "nbformat_minor": 4
}
