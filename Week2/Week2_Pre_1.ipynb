{
 "cells": [
  {
   "cell_type": "code",
   "execution_count": 30,
   "metadata": {},
   "outputs": [
    {
     "name": "stdout",
     "output_type": "stream",
     "text": [
      "[[1 2]\n",
      " [4 8]]\n",
      "チェス盤の小麦の数の合計は15です。\n"
     ]
    }
   ],
   "source": [
    "#【問題1】2×2マスのチェス盤の小麦の数\n",
    "import numpy as np\n",
    "\n",
    "n_squares = 4\n",
    "small_board_list = [1]\n",
    "for _ in range(n_squares - 1):\n",
    "    small_board_list.append(2*small_board_list[-1])\n",
    "    \n",
    "small_board_ndarray = np.array(small_board_list).reshape(2,2)\n",
    "print(small_board_ndarray)\n",
    "print(\"チェス盤の小麦の数の合計は{}です。\".format(np.sum(small_board_ndarray)))"
   ]
  },
  {
   "cell_type": "code",
   "execution_count": 41,
   "metadata": {},
   "outputs": [
    {
     "name": "stdout",
     "output_type": "stream",
     "text": [
      "チェス盤の小麦の数の合計は1.8446744073709552e+19です。\n",
      "[[1.00000000e+00 2.00000000e+00 4.00000000e+00 8.00000000e+00\n",
      "  1.60000000e+01 3.20000000e+01 6.40000000e+01 1.28000000e+02]\n",
      " [2.56000000e+02 5.12000000e+02 1.02400000e+03 2.04800000e+03\n",
      "  4.09600000e+03 8.19200000e+03 1.63840000e+04 3.27680000e+04]\n",
      " [6.55360000e+04 1.31072000e+05 2.62144000e+05 5.24288000e+05\n",
      "  1.04857600e+06 2.09715200e+06 4.19430400e+06 8.38860800e+06]\n",
      " [1.67772160e+07 3.35544320e+07 6.71088640e+07 1.34217728e+08\n",
      "  2.68435456e+08 5.36870912e+08 1.07374182e+09 2.14748365e+09]\n",
      " [4.29496730e+09 8.58993459e+09 1.71798692e+10 3.43597384e+10\n",
      "  6.87194767e+10 1.37438953e+11 2.74877907e+11 5.49755814e+11]\n",
      " [1.09951163e+12 2.19902326e+12 4.39804651e+12 8.79609302e+12\n",
      "  1.75921860e+13 3.51843721e+13 7.03687442e+13 1.40737488e+14]\n",
      " [2.81474977e+14 5.62949953e+14 1.12589991e+15 2.25179981e+15\n",
      "  4.50359963e+15 9.00719925e+15 1.80143985e+16 3.60287970e+16]\n",
      " [7.20575940e+16 1.44115188e+17 2.88230376e+17 5.76460752e+17\n",
      "  1.15292150e+18 2.30584301e+18 4.61168602e+18 9.22337204e+18]]\n"
     ]
    }
   ],
   "source": [
    "#【問題2】n×mマスへの拡張\n",
    "import numpy as np\n",
    "\n",
    "#関数compute_sum_wheat(num_n, num_m)\n",
    "#num_n ×num_mマスの小麦の数値を格納した行列を返す。\n",
    "def compute_sum_wheat(num_n, num_m):\n",
    "    \n",
    "    small_board_list = [1]\n",
    "    for _ in range(num_n * num_m - 1):\n",
    "        small_board_list.append(2*small_board_list[-1])    \n",
    "\n",
    "    small_board_ndarray = np.array(small_board_list).reshape(num_n, num_m)\n",
    "    return small_board_ndarray\n",
    "\n",
    "small_board_ndarray = compute_sum_wheat(num_n=8, num_m=8)\n",
    "print(\"チェス盤の小麦の数の合計は{}です。\".format(np.sum(small_board_ndarray)))\n",
    "print(small_board_ndarray)"
   ]
  },
  {
   "cell_type": "code",
   "execution_count": 32,
   "metadata": {},
   "outputs": [
    {
     "data": {
      "image/png": "[encoded data removed]",
      "text/plain": [
       "<Figure size 432x288 with 1 Axes>"
      ]
     },
     "metadata": {
      "needs_background": "light"
     },
     "output_type": "display_data"
    }
   ],
   "source": [
    "#【問題3】小麦の数の合計\n",
    "\n",
    "import numpy as np\n",
    "import matplotlib.pyplot as plt\n",
    "%matplotlib inline\n",
    "\n",
    "#関数compute_sum_wheat(num_n, num_m)\n",
    "#num_n ×num_mマスの小麦の数値を格納した行列を返す。\n",
    "def compute_sum_wheat(num_n, num_m):\n",
    "    \n",
    "    small_board_list = [1]\n",
    "    for _ in range(num_n * num_m - 1):\n",
    "        small_board_list.append(2*small_board_list[-1])    \n",
    "\n",
    "    small_board_ndarray = np.array(small_board_list).reshape(num_n, num_m)\n",
    "    return small_board_ndarray\n",
    "\n",
    "\n",
    "#n×mマスの指定\n",
    "num_n=8\n",
    "num_m=8\n",
    "\n",
    "#n×mの行列を関数:small_board_ndarrayにより取得\n",
    "small_board_ndarray = compute_sum_wheat(num_n, num_m)\n",
    "\n",
    "#各列の平均が格納された配列を求める。(グラフのy軸のデータとなる)\n",
    "mean_colums_array = np.mean(small_board_ndarray, axis=0)\n",
    "\n",
    "#列数が格納された配列を作成。(グラフのx軸のデータとなる)\n",
    "x_array = np.arange(1, small_board_ndarray.shape[1]+1)\n",
    "\n",
    "#グラフ描画\n",
    "plt.xlabel(\"column\")\n",
    "plt.ylabel(\"number\")\n",
    "plt.title(\"number in each column\")\n",
    "plt.bar(np.arange(1, small_board_ndarray.shape[1]+1), mean_colums_array)\n",
    "\n",
    "#x軸を整数表示にする\n",
    "plt.xticks(x_array)\n",
    "\n",
    "plt.show()"
   ]
  },
  {
   "cell_type": "code",
   "execution_count": 33,
   "metadata": {},
   "outputs": [
    {
     "data": {
      "image/png": "[encoded data removed]",
      "text/plain": [
       "<Figure size 432x288 with 1 Axes>"
      ]
     },
     "metadata": {
      "needs_background": "light"
     },
     "output_type": "display_data"
    }
   ],
   "source": [
    "#【問題4】小麦の数のヒートマップ\n",
    "\n",
    "import numpy as np\n",
    "import matplotlib.pyplot as plt\n",
    "%matplotlib inline\n",
    "\n",
    "#関数compute_sum_wheat(num_n, num_m)\n",
    "#num_n ×num_mマスの小麦の数値を格納した行列を返す。\n",
    "def compute_sum_wheat(num_n, num_m):\n",
    "    \n",
    "    small_board_list = [1]\n",
    "    for _ in range(num_n * num_m - 1):\n",
    "        small_board_list.append(2*small_board_list[-1])    \n",
    "\n",
    "    small_board_ndarray = np.array(small_board_list).reshape(num_n, num_m)\n",
    "    return small_board_ndarray\n",
    "\n",
    "\n",
    "#n×mマスの指定\n",
    "num_n=8\n",
    "num_m=8\n",
    "\n",
    "#n×mの行列を関数:small_board_ndarrayにより取得\n",
    "small_board_ndarray = compute_sum_wheat(num_n, num_m)\n",
    "\n",
    "#グラフ描画\n",
    "plt.xlabel(\"column\")\n",
    "plt.ylabel(\"row\")\n",
    "plt.title(\"heatmap\")\n",
    "plt.pcolor(small_board_ndarray)\n",
    "\n",
    "plt.show()"
   ]
  },
  {
   "cell_type": "code",
   "execution_count": 34,
   "metadata": {},
   "outputs": [
    {
     "name": "stdout",
     "output_type": "stream",
     "text": [
      "前半の小麦の数は4294967295.0です。\n",
      "後半の小麦の数は1.8446744069414584e+19です。\n",
      "後半の小麦の数は前半の小麦の数の4294967296.0倍です。\n"
     ]
    }
   ],
   "source": [
    "#【問題5】後半は前半の何倍か\n",
    "import numpy as np\n",
    "import matplotlib.pyplot as plt\n",
    "%matplotlib inline\n",
    "\n",
    "#関数compute_sum_wheat(num_n, num_m)\n",
    "#num_n ×num_mマスの小麦の数値を格納した行列を返す。\n",
    "def compute_sum_wheat(num_n, num_m):\n",
    "    \n",
    "    small_board_list = [1]\n",
    "    for _ in range(num_n * num_m - 1):\n",
    "        small_board_list.append(2*small_board_list[-1])    \n",
    "\n",
    "    small_board_ndarray = np.array(small_board_list).reshape(num_n, num_m)\n",
    "    return small_board_ndarray\n",
    "\n",
    "\n",
    "#n×mマスの指定\n",
    "num_n=8\n",
    "num_m=8\n",
    "\n",
    "#n×mの行列を関数:small_board_ndarrayにより取得\n",
    "small_board_ndarray = compute_sum_wheat(num_n, num_m)\n",
    "\n",
    "#前後半の小麦の数の計算\n",
    "first_half = int(num_n /2)\n",
    "sum_first_half = np.sum(small_board_ndarray[0:first_half, ])\n",
    "sum_second_half = np.sum(small_board_ndarray[first_half:, ])\n",
    "\n",
    "print(\"前半の小麦の数は{}です。\".format(sum_first_half))\n",
    "print(\"後半の小麦の数は{}です。\".format(sum_second_half))\n",
    "print(\"後半の小麦の数は前半の小麦の数の{}倍です。\".format(sum_second_half/sum_first_half))\n"
   ]
  },
  {
   "cell_type": "code",
   "execution_count": 35,
   "metadata": {},
   "outputs": [
    {
     "name": "stdout",
     "output_type": "stream",
     "text": [
      "チェス盤の小麦の数の合計は1.8446744073709552e+19です。\n"
     ]
    }
   ],
   "source": [
    "#【問題6】他の計算方法によるn×mマスへの拡張 ※np.appendを使用する場合\n",
    "\n",
    "import numpy as np\n",
    "\n",
    "#関数compute_sum_wheat(num_n, num_m)\n",
    "#num_n ×num_mマスの小麦の数値を格納した行列を返す。\n",
    "def compute_sum_wheat(num_n, num_m):\n",
    "\n",
    "    small_board_ndarray  = np.array([1]).astype(np.uint64)\n",
    "    for _ in range(num_n * num_m - 1):\n",
    "        small_board_ndarray = np.append(small_board_ndarray, 2*small_board_ndarray[-1])    \n",
    "    \n",
    "    small_board_ndarray = np.array(small_board_ndarray).reshape(num_n, num_m)\n",
    "    return small_board_ndarray\n",
    "\n",
    "small_board_ndarray = compute_sum_wheat(num_n=8, num_m=8)\n",
    "print(\"チェス盤の小麦の数の合計は{}です。\".format(np.sum(small_board_ndarray)))\n"
   ]
  },
  {
   "cell_type": "code",
   "execution_count": 36,
   "metadata": {},
   "outputs": [
    {
     "name": "stdout",
     "output_type": "stream",
     "text": [
      "チェス盤の小麦の数の合計は18446744073709551615です。\n"
     ]
    }
   ],
   "source": [
    "#【問題6】他の計算方法によるn×mマスへの拡張 ※ブロードキャストを使用する場合\n",
    "\n",
    "import numpy as np\n",
    "\n",
    "#関数compute_sum_wheat(num_n, num_m)\n",
    "#num_n ×num_mマスの小麦の数値を格納した行列を返す。\n",
    "def compute_sum_wheat(num_n, num_m):\n",
    "\n",
    "    n_squares = num_n * num_m\n",
    "    indices_of_squares = np.arange(n_squares).astype(np.uint64)\n",
    "    small_board_ndarray = 2**indices_of_squares\n",
    "    small_board_ndarray = np.array(small_board_ndarray).reshape(num_n, num_m)\n",
    "    return small_board_ndarray\n",
    "\n",
    "small_board_ndarray = compute_sum_wheat(num_n=8, num_m=8)\n",
    "print(\"チェス盤の小麦の数の合計は{}です。\".format(np.sum(small_board_ndarray)))\n"
   ]
  },
  {
   "cell_type": "code",
   "execution_count": 37,
   "metadata": {},
   "outputs": [
    {
     "name": "stdout",
     "output_type": "stream",
     "text": [
      "14.3 µs ± 316 ns per loop (mean ± std. dev. of 7 runs, 100000 loops each)\n"
     ]
    }
   ],
   "source": [
    "%%timeit\n",
    "#【問題7】計算時間の比較　※リストによる計算\n",
    "small_board_list = [1]\n",
    "for _ in range(8 * 8 - 1):\n",
    "    small_board_list.append(2*small_board_list[-1])\n",
    "small_board_ndarray = np.array(small_board_list).reshape(num_n, num_m)    "
   ]
  },
  {
   "cell_type": "code",
   "execution_count": 38,
   "metadata": {},
   "outputs": [
    {
     "name": "stdout",
     "output_type": "stream",
     "text": [
      "375 µs ± 8.32 µs per loop (mean ± std. dev. of 7 runs, 1000 loops each)\n"
     ]
    }
   ],
   "source": [
    "%%timeit\n",
    "#【問題7】計算時間の比較　※np.appendを使用する場合\n",
    "small_board_ndarray  = np.array([1]).astype(np.uint64)\n",
    "for _ in range(8 * 8 - 1):\n",
    "    small_board_ndarray = np.append(small_board_ndarray, 2*small_board_ndarray[-1])    \n",
    "small_board_ndarray = np.array(small_board_ndarray).reshape(num_n, num_m)"
   ]
  },
  {
   "cell_type": "code",
   "execution_count": 39,
   "metadata": {
    "scrolled": true
   },
   "outputs": [
    {
     "name": "stdout",
     "output_type": "stream",
     "text": [
      "4.22 µs ± 311 ns per loop (mean ± std. dev. of 7 runs, 100000 loops each)\n"
     ]
    }
   ],
   "source": [
    "%%timeit\n",
    "#【問題7】計算時間の比較　※ブロードキャストを使用する場合\n",
    "n_squares = 8 * 8\n",
    "indices_of_squares = np.arange(n_squares).astype(np.uint64)\n",
    "small_board_ndarray = 2**indices_of_squares\n",
    "small_board_ndarray = np.array(small_board_ndarray).reshape(num_n, num_m)"
   ]
  },
  {
   "cell_type": "code",
   "execution_count": 40,
   "metadata": {},
   "outputs": [],
   "source": [
    "#【問題7】計算時間の比較と考察\n",
    "#上記結果から、ブロードキャストによる計算が最も計算時間が短いことがわかる。\n",
    "#特にforループ内にてndarray型を処理した場合、ブロードキャストの100倍程度と、非常に計算時間がかかっている。\n",
    "#実務上では、なるべくブロードキャストによる計算を用いるようにする。"
   ]
  },
  {
   "cell_type": "code",
   "execution_count": null,
   "metadata": {},
   "outputs": [],
   "source": []
  }
 ],
 "metadata": {
  "kernelspec": {
   "display_name": "Python 3",
   "language": "python",
   "name": "python3"
  },
  "language_info": {
   "codemirror_mode": {
    "name": "ipython",
    "version": 3
   },
   "file_extension": ".py",
   "mimetype": "text/x-python",
   "name": "python",
   "nbconvert_exporter": "python",
   "pygments_lexer": "ipython3",
   "version": "3.8.3"
  }
 },
 "nbformat": 4,
 "nbformat_minor": 4
}
