{
 "cells": [
  {
   "cell_type": "markdown",
   "metadata": {},
   "source": [
    "## 【問題1】行列積を手計算する\n",
    "\\begin{eqnarray}\n",
    "\\begin{array}{c}\n",
    "C\\\\\n",
    "\\end{array}\n",
    "=\n",
    "\\left[\n",
    "\\begin{array}{ccc}\n",
    "-1*0+2*0+3*2 & -1*2+2*2+3*9 & -1*1+2*(-8)+3*(-1) \\\\ \n",
    "4*0-5*0+6*2 & 4*2-5*2+6*9 & 4*1-5*(-8)+6*(-1) \\\\ \n",
    "7*0+8*0-9*2 & 7*2+8*2-9*9 & 7*1+8*(-8)-9*(-1)\n",
    "\\end{array}\n",
    "\\right]\n",
    "\\end{eqnarray}\n",
    "\n",
    "\\begin{eqnarray}\n",
    "\\begin{array}{c}\n",
    "C\\\\\n",
    "\\end{array}\n",
    "=\n",
    "\\left[\n",
    "\\begin{array}{ccc}\n",
    "6 & 29 & -20 \\\\ \n",
    "12 & 52 & 38 \\\\ \n",
    "-18 & -51 & -48\n",
    "\\end{array}\n",
    "\\right]\n",
    "\\end{eqnarray}"
   ]
  },
  {
   "cell_type": "code",
   "execution_count": 22,
   "metadata": {
    "scrolled": true
   },
   "outputs": [
    {
     "name": "stdout",
     "output_type": "stream",
     "text": [
      "[[  6  29 -20]\n",
      " [ 12  52  38]\n",
      " [-18 -51 -48]]\n"
     ]
    }
   ],
   "source": [
    "#【問題2】NumPyの関数による計算\n",
    "import numpy as np\n",
    "a_ndarray = np.array([[-1, 2, 3], \n",
    "                                        [4, -5, 6],\n",
    "                                        [7, 8, -9]])\n",
    "\n",
    "b_ndarray = np.array([[0, 2, 1], \n",
    "                                        [0, 2, -8], \n",
    "                                        [2, 9, -1]])\n",
    "\n",
    "\n",
    "c_ndarray = a_ndarray @ b_ndarray\n",
    "print(c_ndarray)"
   ]
  },
  {
   "cell_type": "code",
   "execution_count": 23,
   "metadata": {},
   "outputs": [
    {
     "name": "stdout",
     "output_type": "stream",
     "text": [
      "[[  6.  29. -20.]\n",
      " [ 12.  52.  38.]\n",
      " [-18. -51. -48.]]\n"
     ]
    }
   ],
   "source": [
    "#【問題4】行列積を行う関数の作成\n",
    "#　※問題3について検討をしていたところ、問題4も満足するコードが完成したため、問題3用のプログラムは作成していません。\n",
    "\n",
    "import numpy as np\n",
    "\n",
    "def compute_matrix_product(a_ndarray, b_ndarray):\n",
    "    \n",
    "    #行列Aのサイズ(m×n)を取得\n",
    "    a_size_m = a_ndarray.shape[0]\n",
    "    a_size_n = a_ndarray.shape[1]\n",
    "    \n",
    "    #行列Bのサイズ(m×n)を取得\n",
    "    b_size_m = b_ndarray.shape[0]\n",
    "    b_size_n = b_ndarray.shape[1]\n",
    "    \n",
    "    #行列Cのサイズの決定。各要素の初期値は０とする。\n",
    "    c_ndarray = np.zeros(a_size_m * b_size_n).reshape(a_size_m, b_size_n)\n",
    "    \n",
    "    #行列積計算\n",
    "    for i in range(a_size_m):\n",
    "        for j in range(b_size_n):\n",
    "            for k in range(a_size_n):\n",
    "                c_ndarray[i, j] += a_ndarray[i, k] * b_ndarray[k, j]\n",
    "    \n",
    "    return c_ndarray\n",
    "\n",
    "a_ndarray = np.array([[-1, 2, 3], \n",
    "                                        [4, -5, 6],\n",
    "                                        [7, 8, -9]])\n",
    "\n",
    "b_ndarray = np.array([[0, 2, 1], \n",
    "                                        [0, 2, -8], \n",
    "                                        [2, 9, -1]])\n",
    "\n",
    "c_ndarray = compute_matrix_product(a_ndarray, b_ndarray)\n",
    "print(c_ndarray) "
   ]
  },
  {
   "cell_type": "code",
   "execution_count": 29,
   "metadata": {},
   "outputs": [
    {
     "name": "stdout",
     "output_type": "stream",
     "text": [
      "行列のサイズに問題があるため、計算結果が誤っている可能性があります。\n",
      "[[  3.   8.  -8.]\n",
      " [  6.  10.  62.]\n",
      " [ -9.  12. -84.]]\n"
     ]
    }
   ],
   "source": [
    "#【問題5】計算が定義されない入力を判定する\n",
    "import numpy as np\n",
    "\n",
    "def compute_matrix_product(a_ndarray, b_ndarray):\n",
    "    \n",
    "    #行列Aのサイズ(m×n)を取得\n",
    "    a_size_m = a_ndarray.shape[0]\n",
    "    a_size_n = a_ndarray.shape[1]\n",
    "    \n",
    "    #行列Bのサイズ(m×n)を取得\n",
    "    b_size_m = b_ndarray.shape[0]\n",
    "    b_size_n = b_ndarray.shape[1]\n",
    "    \n",
    "    #行列積の計算可否を確認\n",
    "    if a_size_n != b_size_m:\n",
    "        print(\"行列のサイズに問題があるため、計算結果が誤っている可能性があります。\")\n",
    "    \n",
    "    #行列Cのサイズの決定。各要素の初期値は０とする。\n",
    "    c_ndarray = np.zeros(a_size_m * b_size_n).reshape(a_size_m, b_size_n)\n",
    "    \n",
    "    #行列積計算\n",
    "    for i in range(a_size_m):\n",
    "        for j in range(b_size_n):\n",
    "            for k in range(a_size_n):\n",
    "                c_ndarray[i, j] += a_ndarray[i, k] * b_ndarray[k, j]\n",
    "    \n",
    "    return c_ndarray\n",
    "\n",
    "a_ndarray = np.array([[-1, 2, 3], \n",
    "                                        [4, -5, 6],\n",
    "                                        [7, 8, -9]])\n",
    "\n",
    "#エラーメッセージを出力させるため、行列Bのサイズを４×3とした。\n",
    "b_ndarray = np.array([[0, 2, 1], \n",
    "                                       [0, 2, -8],\n",
    "                                       [1, 2, 3],\n",
    "                                        [2, 9, -1]])\n",
    "\n",
    "\n",
    "c_ndarray = compute_matrix_product(a_ndarray, b_ndarray)\n",
    "print(c_ndarray)"
   ]
  },
  {
   "cell_type": "code",
   "execution_count": 33,
   "metadata": {},
   "outputs": [
    {
     "name": "stdout",
     "output_type": "stream",
     "text": [
      "[[  7. -20.  12.  13.]\n",
      " [ -4. -58.  12. -43.]\n",
      " [  7.  88.  -4.  95.]]\n"
     ]
    }
   ],
   "source": [
    "#【問題6】転置\n",
    "#問題５の行列Bを転置させ、行列積を求める。\n",
    "import numpy as np\n",
    "\n",
    "def compute_matrix_product(a_ndarray, b_ndarray):\n",
    "    \n",
    "    #行列Aのサイズ(m×n)を取得\n",
    "    a_size_m = a_ndarray.shape[0]\n",
    "    a_size_n = a_ndarray.shape[1]\n",
    "    \n",
    "    #行列Bのサイズ(m×n)を取得\n",
    "    b_size_m = b_ndarray.shape[0]\n",
    "    b_size_n = b_ndarray.shape[1]\n",
    "    \n",
    "    #行列積の計算可否を確認\n",
    "    if a_size_n != b_size_m:\n",
    "        print(\"行列のサイズに問題があるため、計算結果が誤っている可能性があります。\")\n",
    "    \n",
    "    #行列Cのサイズの決定。各要素の初期値は０とする。\n",
    "    c_ndarray = np.zeros(a_size_m * b_size_n).reshape(a_size_m, b_size_n)\n",
    "    \n",
    "    #行列積計算\n",
    "    for i in range(a_size_m):\n",
    "        for j in range(b_size_n):\n",
    "            for k in range(a_size_n):\n",
    "                c_ndarray[i, j] += a_ndarray[i, k] * b_ndarray[k, j]\n",
    "    \n",
    "    return c_ndarray\n",
    "\n",
    "a_ndarray = np.array([[-1, 2, 3], \n",
    "                                        [4, -5, 6],\n",
    "                                        [7, 8, -9]])\n",
    "\n",
    "#行列Bのサイズを４×3としている。\n",
    "b_ndarray = np.array([[0, 2, 1], \n",
    "                                       [0, 2, -8],\n",
    "                                       [1, 2, 3],\n",
    "                                        [2, 9, -1]])\n",
    "\n",
    "#転置した行列Bにて行列積を求める。\n",
    "c_ndarray = compute_matrix_product(a_ndarray, b_ndarray.T)\n",
    "print(c_ndarray)\n"
   ]
  },
  {
   "cell_type": "code",
   "execution_count": null,
   "metadata": {},
   "outputs": [],
   "source": []
  }
 ],
 "metadata": {
  "kernelspec": {
   "display_name": "Python 3",
   "language": "python",
   "name": "python3"
  },
  "language_info": {
   "codemirror_mode": {
    "name": "ipython",
    "version": 3
   },
   "file_extension": ".py",
   "mimetype": "text/x-python",
   "name": "python",
   "nbconvert_exporter": "python",
   "pygments_lexer": "ipython3",
   "version": "3.8.3"
  }
 },
 "nbformat": 4,
 "nbformat_minor": 4
}
