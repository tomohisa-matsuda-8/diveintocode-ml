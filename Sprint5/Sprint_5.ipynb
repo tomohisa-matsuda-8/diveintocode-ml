{
 "cells": [
  {
   "cell_type": "markdown",
   "metadata": {},
   "source": [
    "### 【問題1】ラグランジュの未定乗数法による最急降下\n",
    "### 【問題2】サポートベクターの決定\n",
    "### 【問題3】推定"
   ]
  },
  {
   "cell_type": "code",
   "execution_count": 13,
   "metadata": {},
   "outputs": [
    {
     "name": "stdout",
     "output_type": "stream",
     "text": [
      "サポートベクトルの個数 13\n"
     ]
    }
   ],
   "source": [
    "import matplotlib.pyplot as plt\n",
    "%matplotlib inline\n",
    "import numpy as np\n",
    "import pandas as pd\n",
    "from sklearn.preprocessing import StandardScaler\n",
    "from sklearn.svm import SVC\n",
    "from sklearn.model_selection import train_test_split\n",
    "from sklearn.metrics import confusion_matrix\n",
    "from sklearn.metrics import accuracy_score\n",
    "from sklearn.metrics import precision_score\n",
    "from sklearn.metrics import recall_score\n",
    "from sklearn.metrics import f1_score\n",
    "\n",
    "class ScratchSVMClassifier():\n",
    "\n",
    "    def __init__(self, num_iter, lr, kernel='linear', threshold=1e-5, verbose=False):\n",
    "        self.iter = num_iter\n",
    "        self.lr = lr\n",
    "        self.kernel = kernel\n",
    "        self.threshold = threshold\n",
    "        self.verbose = verbose\n",
    "\n",
    "        self.n_support_vectors = 0\n",
    "        self.index_support_vectors = np.array([])\n",
    "        self.X_sv = np.array([])\n",
    "        self.lam_sv = np.array([])\n",
    "        self.y_sv = np.array([])\n",
    "        \n",
    "    def fit(self, X, y, X_val=None, y_val=None):\n",
    "        #λの初期値をランダムに設定\n",
    "        n_samples = X.shape[0]\n",
    "        lmd = np.random.rand(n_samples)\n",
    "        \n",
    "        #λ、yは縦一列に並べることにする。\n",
    "        lmd = lmd.reshape(-1,1) \n",
    "        y = y.reshape(-1,1)\n",
    "\n",
    "        #最急降下法をイテレーション回数実施\n",
    "        for _ in range(self.iter):\n",
    "            \n",
    "            #ラグランジュの未定乗数法による最急降下法の計算\n",
    "            yy = y@y.T\n",
    "            kx = self._kernel_function(X, X) \n",
    "            yykx = yy * kx\n",
    "            sigma = np.sum(lmd.T @ yykx, axis=0) \n",
    "            sigma = sigma.reshape(-1,1)  #λを縦一列に並べているのでshapeを合わせる。\n",
    "            lmd = lmd + self.lr * (1- sigma)\n",
    "            lmd = np.where(lmd <  0, 0, lmd) #λ>0とする。\n",
    " \n",
    "        #サポートベクトルの情報を保管する。\n",
    "        for i in range(n_samples):\n",
    "            if lmd[i] > self.threshold:\n",
    "                \n",
    "                #サポートベクトルの数\n",
    "                self.n_support_vectors += 1\n",
    "                \n",
    "                #サポートベクトルのインデックス\n",
    "                self.index_support_vectors = np.append(self.index_support_vectors, i)\n",
    "\n",
    "                #サポートベクトルの特徴量\n",
    "                if self.n_support_vectors == 1:\n",
    "                    self.X_sv =  X[i, :]\n",
    "                else:\n",
    "                    self.X_sv = np.vstack((self.X_sv, X[i, :]))\n",
    "\n",
    "                #サポートベクトルのラグランジュ未定乗数\n",
    "                self.lam_sv = np.append(self.lam_sv, lmd[i])\n",
    "\n",
    "                #サポートベクトルのラベル\n",
    "                self.y_sv  = np.append(self.y_sv, y[i]) \n",
    "\n",
    "        #print(\"index\",self.index_support_vectors)\n",
    "        #print(\"サポートベクトルの個数\",self.n_support_vectors)\n",
    "        #print(\"特徴量\",self.X_sv.shape)\n",
    "        #print(\"未定乗数\",self.lam_sv.shape)\n",
    "        #print(\"未定乗数\",self.lam_sv)\n",
    "        #print(\"ラベル\", self.y_sv.shape)\n",
    "             \n",
    "        if self.verbose:\n",
    "            #verboseをTrueにした際は学習過程を出力\n",
    "            print()\n",
    "\n",
    "    #推定\n",
    "    def predict(self, X):\n",
    "        \n",
    "        #推定式の計算\n",
    "        tmp = np.sum(self.lam_sv) \n",
    "        k = self._kernel_function(X, self.X_sv)\n",
    "        fx = tmp * self.y_sv @k\n",
    "        \n",
    "        #fx計算結果により出力を分類\n",
    "        output = np.where(fx <  0, -1, 1)        \n",
    "        return output\n",
    "    \n",
    "    #カーネル関数の計算メソッド\n",
    "    def _kernel_function(self, X1,X2):\n",
    "        return X2 @ X1.T\n",
    "\n",
    "#シンプルデータセット１の作成\n",
    "np.random.seed(seed=0)\n",
    "n_samples = 500\n",
    "f0 = [-1, 2]\n",
    "f1 = [2, -1]\n",
    "cov = [[1.0,0.8], [0.8, 1.0]]\n",
    "f0 = np.random.multivariate_normal(f0, cov, int(n_samples/2))\n",
    "f1 = np.random.multivariate_normal(f1, cov, int(n_samples/2))\n",
    "X = np.concatenate((f0, f1))\n",
    "y = np.concatenate((np.ones((int(n_samples/2))), np.ones((int(n_samples/2))) *(-1))).astype(np.int) #f0に1, f1に-1を対応させている。\n",
    "random_index = np.random.permutation(np.arange(n_samples))\n",
    "X = X[random_index] \n",
    "y = y[random_index]\n",
    "\n",
    "#train, testデータへの分割\n",
    "X_train, X_test, y_train, y_test = train_test_split(X,y)\n",
    "\n",
    "#標準化(Xのみ標準化。yはしない。)\n",
    "scaler = StandardScaler()\n",
    "scaler.fit(X_train)\n",
    "X_train_transformed = scaler.transform(X_train)\n",
    "X_test_transformed = scaler.transform(X_test)\n",
    "\n",
    "#機械学習(fit)\n",
    "num_iter = 1000\n",
    "lr = 0.001\n",
    "thre = 1e-5\n",
    "svm = ScratchSVMClassifier(num_iter, lr, kernel='linear', threshold=thre, verbose=False)\n",
    "svm.fit(X_train_transformed, y_train, X_test_transformed, y_test)\n",
    "\n",
    "print(\"サポートベクトルの個数\",svm.n_support_vectors)\n"
   ]
  },
  {
   "cell_type": "markdown",
   "metadata": {},
   "source": [
    "### 【問題4】学習と推定"
   ]
  },
  {
   "cell_type": "code",
   "execution_count": 6,
   "metadata": {},
   "outputs": [
    {
     "name": "stdout",
     "output_type": "stream",
     "text": [
      "スクラッチによる推定\n",
      " acc: 1.0  pre:1.0  rec:1.0  f1:1.0\n",
      "scikit-learnによる推定\n",
      " acc: 1.0  pre:1.0  rec:1.0  f1:1.0\n"
     ]
    }
   ],
   "source": [
    "#スクラッチによる推定\n",
    "output = svm.predict(X_test_transformed)\n",
    "acc = accuracy_score(output, y_test)\n",
    "pre = precision_score(output, y_test)\n",
    "rec = recall_score(output, y_test)\n",
    "f1 =   f1_score(output, y_test)\n",
    "print(\"スクラッチによる推定\\n acc: {}  pre:{}  rec:{}  f1:{}\".format(acc, pre, rec, f1))\n",
    "\n",
    "#scikit-learnによる推定\n",
    "svc = SVC()\n",
    "svc.fit(X_train_transformed, y_train)\n",
    "y_pred = svc.predict(X_test_transformed)\n",
    "acc = accuracy_score(y_pred, y_test)\n",
    "pre = precision_score(y_pred, y_test)\n",
    "rec = recall_score(y_pred, y_test)\n",
    "f1 =   f1_score(y_pred, y_test)\n",
    "print(\"scikit-learnによる推定\\n acc: {}  pre:{}  rec:{}  f1:{}\".format(acc, pre, rec, f1))"
   ]
  },
  {
   "cell_type": "markdown",
   "metadata": {},
   "source": [
    "### 【問題5】決定領域の可視化"
   ]
  },
  {
   "cell_type": "code",
   "execution_count": 14,
   "metadata": {},
   "outputs": [
    {
     "data": {
      "image/png": "[encoded data removed]",
      "text/plain": [
       "<Figure size 432x288 with 1 Axes>"
      ]
     },
     "metadata": {
      "needs_background": "light"
     },
     "output_type": "display_data"
    }
   ],
   "source": [
    "import matplotlib.pyplot as plt\n",
    "from matplotlib.colors import ListedColormap\n",
    "import matplotlib.patches as mpatches\n",
    "\n",
    "def decision_region(X, y, model, step=0.01, title='decision region', xlabel='xlabel', ylabel='ylabel', target_names=['1', '-1']):\n",
    "    \n",
    "    # setting\n",
    "    scatter_color = ['red', 'blue']\n",
    "    contourf_color = ['pink', 'skyblue']\n",
    "    n_class = 2\n",
    "    \n",
    "    # pred\n",
    "    mesh_f0, mesh_f1  = np.meshgrid(np.arange(np.min(X[:,0])-0.5, np.max(X[:,0])+0.5, step), np.arange(np.min(X[:,1])-0.5, np.max(X[:,1])+0.5, step))\n",
    "    mesh = np.c_[np.ravel(mesh_f0),np.ravel(mesh_f1)]\n",
    "    y_pred = svm.predict(mesh).reshape(mesh_f0.shape)\n",
    "\n",
    "    # plot\n",
    "    plt.title(title)\n",
    "    plt.xlabel(xlabel)\n",
    "    plt.ylabel(ylabel)\n",
    "    plt.contourf(mesh_f0, mesh_f1, y_pred, n_class-1, cmap=ListedColormap(contourf_color))\n",
    "    plt.contour(mesh_f0, mesh_f1, y_pred, n_class-1, colors='y', linewidths=3, alpha=0.5)\n",
    "    for i, target in enumerate(set(y)):\n",
    "        plt.scatter(X[y==target][:, 0], X[y==target][:, 1], s=80, color=scatter_color[i], label=target_names[i], marker='o')\n",
    "\n",
    "    #サポートベクトルの表示を追加\n",
    "    plt.scatter(svm.X_sv[:, 0], svm.X_sv[:, 1], s=80, color='yellow', label=\"SV\", marker='o')\n",
    "\n",
    "    patches = [mpatches.Patch(color=scatter_color[i], label=target_names[i]) for i in range(n_class)]\n",
    "    plt.legend(handles=patches)\n",
    "    plt.legend()\n",
    "    plt.show()\n",
    "\n",
    "y_train = y_train.flatten() \n",
    "decision_region(X_train_transformed, y_train, svm.fit(X_train_transformed, y_train))"
   ]
  },
  {
   "cell_type": "code",
   "execution_count": null,
   "metadata": {},
   "outputs": [],
   "source": []
  }
 ],
 "metadata": {
  "kernelspec": {
   "display_name": "Python 3",
   "language": "python",
   "name": "python3"
  },
  "language_info": {
   "codemirror_mode": {
    "name": "ipython",
    "version": 3
   },
   "file_extension": ".py",
   "mimetype": "text/x-python",
   "name": "python",
   "nbconvert_exporter": "python",
   "pygments_lexer": "ipython3",
   "version": "3.8.3"
  }
 },
 "nbformat": 4,
 "nbformat_minor": 4
}
