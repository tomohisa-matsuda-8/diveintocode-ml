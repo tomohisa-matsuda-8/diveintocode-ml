{
 "cells": [
  {
   "cell_type": "markdown",
   "metadata": {},
   "source": [
    "### 【問題1】仮定関数\n",
    "以下の数式で表される線形回帰の仮定関数を実装してください。\n",
    "\n",
    "### 【問題2】最急降下法\n",
    "最急降下法により学習させる実装を行なってください。\n",
    "\n",
    "### 【問題3】推定\n",
    "推定する仕組みを実装してください。\n",
    "\n",
    "### 【問題4】平均二乗誤差\n",
    "線形回帰の指標値として用いられる平均二乗誤差（mean square error, MSE）の関数を作成してください。\n",
    "\n",
    "### 【問題5】目的関数\n",
    "以下の数式で表される線形回帰の 目的関数（損失関数） を実装してください。\n",
    "\n",
    "→下記プログラムをご確認ください。"
   ]
  },
  {
   "cell_type": "code",
   "execution_count": 72,
   "metadata": {},
   "outputs": [],
   "source": [
    "#importとデータファイルの読込\n",
    "\n",
    "import matplotlib.pyplot as plt\n",
    "%matplotlib inline\n",
    "import numpy as np\n",
    "import pandas as pd\n",
    "import seaborn as sns\n",
    "from sklearn.preprocessing import StandardScaler\n",
    "from sklearn.linear_model import SGDRegressor\n",
    "from sklearn.model_selection import train_test_split\n",
    "\n",
    "#train, testデータの読み込み\n",
    "df = pd.read_csv(\"train.csv\")\n",
    "X = df.loc[:,[\"GrLivArea\", \"YearBuilt\"]].values\n",
    "y = df.loc[:,[\"SalePrice\"]].values\n",
    "\n",
    "#train, testデータへの分割\n",
    "X_train, X_test, y_train, y_test = train_test_split(X, y, train_size=0.8)\n",
    "\n",
    "#標準化\n",
    "scaler = StandardScaler()\n",
    "scaler.fit(X_train)\n",
    "X_train_transformed = scaler.transform(X_train)\n",
    "X_test_transformed = scaler.transform(X_test)\n",
    "scaler.fit(y_train.reshape(-1,1))\n",
    "y_train_transformed = scaler.transform(y_train.reshape(-1,1))\n",
    "y_test_transformed = scaler.transform(y_test.reshape(-1,1))"
   ]
  },
  {
   "cell_type": "code",
   "execution_count": 78,
   "metadata": {},
   "outputs": [],
   "source": [
    "class ScratchLinearRegression():\n",
    "    \n",
    "    def __init__(self, num_iter, lr, no_bias, verbose):\n",
    "        # ハイパーパラメータを属性として記録\n",
    "        self.iter = num_iter\n",
    "        self.lr = lr\n",
    "        self.no_bias = no_bias\n",
    "        self.verbose = verbose\n",
    "        # 損失を記録する配列を用意\n",
    "        self.loss = np.zeros(self.iter)\n",
    "        self.val_loss = np.zeros(self.iter)\n",
    "        # 精度を記録する配列を用意\n",
    "        self.mse = np.zeros(self.iter)\n",
    "        self.val_mse = np.zeros(self.iter)\n",
    "        #機械学習にて求めるパラメータを記録\n",
    "        self.theta = 0\n",
    "        \n",
    "    def fit(self, X, y, X_val=None, y_val=None):        \n",
    "        #最急降下法\n",
    "        self._gradient_descent(X, y, X_val, y_val)\n",
    "        \n",
    "    #予測値の出力\n",
    "    def predict(self, X):\n",
    "        y_hat = self._linear_hypothesis(X)\n",
    "        return y_hat\n",
    "\n",
    "    #最急降下法\n",
    "    def _gradient_descent(self, X, y, X_val=None, y_val=None ):\n",
    "        #説明変数のサイズを確認\n",
    "        param_length = X.shape\n",
    "        n_samples = param_length[0]\n",
    "        n_features = param_length[1]\n",
    "        \n",
    "        #θの初期値を設定\n",
    "        np.random.seed(0)\n",
    "        self.theta = np.random.rand(n_features) \n",
    "        self.theta = self.theta.reshape(1,-1)\n",
    "        #print(self.theta)\n",
    "\n",
    "        #最急降下法の実装（損失・精度もイテレーション毎に記録する。）\n",
    "        for i in range(self.iter): \n",
    "            y_hat = self._linear_hypothesis(X)\n",
    "            self.loss[i] = self._loss_function(y_hat, y)\n",
    "\n",
    "            if self.verbose:\n",
    "                y_hat_test = self._linear_hypothesis(X_val)\n",
    "                self.val_loss[i] = self._loss_function(y_hat_test, y_val)\n",
    "                \n",
    "            self.theta = self.theta - self.lr / n_samples * np.sum ((y_hat -  y) * X, axis=0)\n",
    "     \n",
    "    #仮定関数の作成\n",
    "    def _linear_hypothesis(self, X):\n",
    "        y_hat = X @ self.theta.T\n",
    "        return y_hat\n",
    "    \n",
    "    #損失関数の作成\n",
    "    def _loss_function(self, y_pred, y):\n",
    "        loss_func = (1/2)*np.mean((y_pred - y)**2)\n",
    "        return loss_func       \n",
    "\n",
    "#平均二乗誤差の算出\n",
    "def MSE(y_pred, y):    \n",
    "    mse = np.mean((y_pred - y)**2)\n",
    "    return mse\n",
    "\n",
    "#機械学習パラメータの設定\n",
    "alpha = 1e-5\n",
    "num_iter = int(3e+5)\n",
    "\n",
    "#機械学習(fit)\n",
    "#slr = ScratchLinearRegression(num_iter, alpha, True, False)\n",
    "#slr.fit(X_train_transformed, y_train_transformed)\n"
   ]
  },
  {
   "cell_type": "markdown",
   "metadata": {},
   "source": [
    "### 【問題6】学習と推定\n",
    "機械学習スクラッチ入門のSprintで用意したHouse Pricesコンペティションのデータに対してスクラッチ実装の学習と推定を行なってください。\n",
    "\n",
    "\n",
    "scikit-learnによる実装と比べ、正しく動いているかを確認してください。\n",
    "\n",
    "→下記の通りスクラッチによる線形回帰でもimportと同等のMSEとなった。（今回はスクラッチの方が値が小さい）"
   ]
  },
  {
   "cell_type": "code",
   "execution_count": 61,
   "metadata": {},
   "outputs": [
    {
     "name": "stdout",
     "output_type": "stream",
     "text": [
      "Scratch_MSE:  0.3748453686071031\n",
      "Import_MSE:  2.019874566484287\n"
     ]
    },
    {
     "name": "stderr",
     "output_type": "stream",
     "text": [
      "/Users/tomohisamatsuda/.pyenv/versions/anaconda3-2020.07/lib/python3.8/site-packages/sklearn/utils/validation.py:73: DataConversionWarning: A column-vector y was passed when a 1d array was expected. Please change the shape of y to (n_samples, ), for example using ravel().\n",
      "  return f(**kwargs)\n"
     ]
    }
   ],
   "source": [
    "#機械学習による予測\n",
    "y_pred = slr.predict(X_test_transformed)\n",
    "mse = MSE(y_pred, y_test_transformed)\n",
    "print(\"Scratch_MSE: \",mse)\n",
    "\n",
    "#importした線形回帰による機械学習、予測\n",
    "y_train_transformed = y_train_transformed.reshape(-1,1)\n",
    "lr = SGDRegressor(max_iter=num_iter, alpha=alpha)\n",
    "lr.fit(X_train_transformed, y_train_transformed)\n",
    "\n",
    "y_pred_import = lr.predict(X_test_transformed)\n",
    "mse_import = MSE(y_pred_import, y_test_transformed)\n",
    "print(\"Import_MSE: \",mse_import)"
   ]
  },
  {
   "cell_type": "markdown",
   "metadata": {},
   "source": [
    "### 【問題7】学習曲線のプロット\n",
    "学習曲線を表示する関数を作成し、実行してください。グラフを見て損失が適切に下がっているかどうか確認してください。\n",
    "\n",
    "線形回帰クラスの雛形ではself.loss, self.val_lossに損失を記録しておくようになっているため、入力にはこれを利用してください。\n",
    "\n",
    "→ある程度の回数を重ねるとlossの降下が飽和しており、適切なグラフと考えます。"
   ]
  },
  {
   "cell_type": "code",
   "execution_count": 75,
   "metadata": {},
   "outputs": [
    {
     "data": {
      "image/png": "[encoded data removed]",
      "text/plain": [
       "<Figure size 576x432 with 1 Axes>"
      ]
     },
     "metadata": {
      "needs_background": "light"
     },
     "output_type": "display_data"
    }
   ],
   "source": [
    "#機械学習(fit, 検証データ機能付き)\n",
    "slr = ScratchLinearRegression(num_iter, alpha, True, True)\n",
    "slr.fit(X_train_transformed, y_train_transformed, X_test_transformed, y_test_transformed)\n",
    "\n",
    "#グラフ描画 \n",
    "graph_num = range(slr.iter)\n",
    "fig = plt.figure(figsize=(8, 6), dpi=72)\n",
    "plt.scatter(graph_num, slr.loss, label='train_loss')\n",
    "plt.scatter(graph_num, slr.val_loss, label='val_loss')\n",
    "plt.xlabel(\"iter\")\n",
    "plt.ylabel(\"loss\")\n",
    "plt.legend()\n",
    "plt.show()"
   ]
  },
  {
   "cell_type": "code",
   "execution_count": null,
   "metadata": {},
   "outputs": [],
   "source": []
  }
 ],
 "metadata": {
  "kernelspec": {
   "display_name": "Python 3",
   "language": "python",
   "name": "python3"
  },
  "language_info": {
   "codemirror_mode": {
    "name": "ipython",
    "version": 3
   },
   "file_extension": ".py",
   "mimetype": "text/x-python",
   "name": "python",
   "nbconvert_exporter": "python",
   "pygments_lexer": "ipython3",
   "version": "3.8.3"
  }
 },
 "nbformat": 4,
 "nbformat_minor": 4
}
