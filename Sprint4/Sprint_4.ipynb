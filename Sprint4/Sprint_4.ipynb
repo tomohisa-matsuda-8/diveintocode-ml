{
 "cells": [
  {
   "cell_type": "markdown",
   "metadata": {},
   "source": [
    "### 【問題1】〜 【問題4】"
   ]
  },
  {
   "cell_type": "code",
   "execution_count": 30,
   "metadata": {},
   "outputs": [
    {
     "name": "stdout",
     "output_type": "stream",
     "text": [
      "\n"
     ]
    }
   ],
   "source": [
    "#import, irisデータの読込\n",
    "import matplotlib.pyplot as plt\n",
    "%matplotlib inline\n",
    "import numpy as np\n",
    "import pandas as pd\n",
    "from sklearn.datasets import load_iris\n",
    "from sklearn.linear_model import SGDClassifier\n",
    "from sklearn.preprocessing import StandardScaler\n",
    "from sklearn.model_selection import train_test_split\n",
    "\n",
    "#機械学習モデル、関数の記載\n",
    "class ScratchLogisticRegression():\n",
    "\n",
    "    def __init__(self, num_iter, lr, bias, verbose):\n",
    "        # ハイパーパラメータを属性として記録\n",
    "        self.iter = num_iter\n",
    "        self.lr = lr\n",
    "        self.bias = bias\n",
    "        self.verbose = verbose\n",
    "        # 損失を記録する配列を用意\n",
    "        self.loss = np.zeros(self.iter)\n",
    "        self.val_loss = np.zeros(self.iter)\n",
    "        self.theta = 0\n",
    "        self.param_lambda = 0.01\n",
    "        \n",
    "    def fit(self, X, y, X_val=None, y_val=None):\n",
    "        \n",
    "        #目的変数のサイズを確認\n",
    "        param_length = X.shape\n",
    "        n_samples = param_length[0]\n",
    "        n_features = param_length[1]\n",
    "        \n",
    "        if self.bias == False:\n",
    "            #目的変数にバイアス列の追加\n",
    "            bias_array = np.ones((n_samples, 1))\n",
    "            X = np.hstack((bias_array, X))\n",
    "\n",
    "            #バイアス項を追加したので特徴量の数 (n_features)を更新（+1となる）\n",
    "            param_length = X.shape\n",
    "            n_samples = param_length[0]\n",
    "            n_features = param_length[1]\n",
    "            \n",
    "            #テスト用データのXにも同様にバイアス列を追加する。\n",
    "            if self.verbose == True:\n",
    "                param_length = X_val.shape\n",
    "                n_samples_test = param_length[0]\n",
    "                n_features_test = param_length[1]\n",
    "                bias_array_test = np.ones((n_samples_test, 1))\n",
    "                X_val = np.hstack((bias_array_test, X_val))\n",
    "            \n",
    "        \n",
    "        #θの初期値をランダムに設定。shapeを調整。\n",
    "        np.random.seed(0)\n",
    "        self.theta = np.random.rand(n_features) \n",
    "        self.theta = self.theta.reshape(1,-1)\n",
    "\n",
    "        #最急降下法\n",
    "        y_hat = self._gradient_descent(X, y, X_val,  y_val)\n",
    "        \n",
    "        if self.verbose:\n",
    "            #verboseをTrueにした際は学習過程を出力\n",
    "            print()\n",
    "        pass\n",
    "\n",
    "    \n",
    "    def _gradient_descent(self, X, y, X_val=None, y_val=None ):\n",
    "        \n",
    "        param_length = X.shape\n",
    "        n_samples = param_length[0]\n",
    "        y_hat = self._logistic_regression_hypothesis(X)\n",
    "                        \n",
    "        #yを2次元配列に変換\n",
    "        y = y.reshape(-1,1) \n",
    "\n",
    "        \"\"\"デバック用print関数群\n",
    "        print(\"初期値y_hat.shape\", y_hat.shape)\n",
    "        print(\"初期値y.shape\", y.shape)\n",
    "        print(\"初期値：self.theta.shape\",self.theta.shape)\n",
    "        a = np.sum ((y_hat -  y) * X, axis=0)\n",
    "        print(\"a\",a)\n",
    "        print (\"a.shape\",a.shape)\n",
    "        print(\"self.lr\", self.lr)\n",
    "        print(\"n_samples\", n_samples)\n",
    "        \"\"\"\n",
    "\n",
    "        #ロジスティック回帰用に書き換える\n",
    "        for i in range(self.iter):  \n",
    "            \n",
    "            #損失関数を計算、記録。\n",
    "            self.loss[i] = self._loss_function(y_hat, y)\n",
    "            \n",
    "            #j=0の場合の正則化項を０とするため、j=0のパラメータが０となる計算用の仮thetaを作成する。\n",
    "            theta_calc = self.theta\n",
    "            if self.bias == False:\n",
    "                theta_calc[0][0] = 0\n",
    "            else:\n",
    "                pass\n",
    "\n",
    "            #最急降下法の計算\n",
    "            error = y_hat -  y\n",
    "            regularization = self.param_lambda / n_samples * theta_calc\n",
    "            self.theta = self.theta - self.lr * (1/n_samples * np.sum (error * X, axis=0) + regularization)\n",
    "            y_hat = self._logistic_regression_hypothesis(X)\n",
    "            \n",
    "\n",
    "            #テスト用データでの損失関数の計算\n",
    "            if self.verbose == True:\n",
    "                y_hat_test = self._logistic_regression_hypothesis(X_val)\n",
    "                self.val_loss[i] = self._loss_function(y_hat_test, y_val)\n",
    "            \n",
    "\n",
    "    def _logistic_regression_hypothesis(self, X):\n",
    "       #ロジスティック回帰の仮定関数の作成\n",
    "        y_hat = 1 / (1 + np.exp(-1 * X @ self.theta.T))\n",
    "        return y_hat\n",
    "\n",
    "    def predict(self, X):\n",
    "        #目的変数のサイズを確認\n",
    "        param_length = X.shape\n",
    "        n_samples = param_length[0]\n",
    "        n_features = param_length[1]\n",
    "        \n",
    "        if self.bias == False:\n",
    "            #目的変数にバイアス列の追加\n",
    "            bias_array = np.ones((n_samples, 1))\n",
    "            X = np.hstack((bias_array, X))  \n",
    "        \n",
    "        #機械学習したパラメータによりラベルの推定\n",
    "        y_hat = self._logistic_regression_hypothesis(X)\n",
    "        predict_lavel = np.where(y_hat >=  0.5, 1, 0)\n",
    "\n",
    "        return predict_lavel\n",
    "    \n",
    "    def predict_proba(self, X):\n",
    "        #目的変数のサイズを確認\n",
    "        param_length = X.shape\n",
    "        n_samples = param_length[0]\n",
    "        n_features = param_length[1]\n",
    "        \n",
    "        if self.bias == False:\n",
    "            #目的変数にバイアス列の追加\n",
    "            bias_array = np.ones((n_samples, 1))\n",
    "            X = np.hstack((bias_array, X))          \n",
    "            \n",
    "        #機械学習したパラメータによりラベルの推定\n",
    "        y_hat = self._logistic_regression_hypothesis(X)\n",
    "        \n",
    "        return y_hat\n",
    "    \n",
    "    #損失関数の作成\n",
    "    def _loss_function(self, y_pred, y):\n",
    "        regularization = self.param_lambda / 2 * np.mean((self.theta)**2)\n",
    "        loss_func = np.mean(-y*np.log(y_pred) - (1-y)*np.log(1-y_pred)) + regularization\n",
    "        return loss_func       \n",
    "\n",
    "#分析データの取得\n",
    "iris_dataset = load_iris()\n",
    "X = pd.DataFrame(iris_dataset.data, columns=[\"sepal_length\", \"sepal_width\", \"petal_length\", \"petal_width\"])\n",
    "y = pd.DataFrame(iris_dataset.target, columns=[\"Species\"])\n",
    "df = pd.concat([X, y], axis=1)\n",
    "X = df.query(\"Species == 1 | Species == 2\").loc[:,[\"sepal_length\", \"sepal_width\", \"petal_length\", \"petal_width\"]].values\n",
    "y = df.query(\"Species == 1 | Species == 2\").loc[:,\"Species\"].values\n",
    "\n",
    "#ラベルの０、１化\n",
    "y = np.where(y ==  2, 0, 1)\n",
    "\n",
    "#train, testデータへの分割\n",
    "X_train, X_test, y_train, y_test = train_test_split(X,y)\n",
    "\n",
    "#標準化\n",
    "scaler = StandardScaler()\n",
    "scaler.fit(X_train)\n",
    "X_train_transformed = scaler.transform(X_train)\n",
    "X_test_transformed = scaler.transform(X_test)\n",
    "    \n",
    "#機械学習(fit)\n",
    "alpha = 0.00001\n",
    "iter = int(2e5)\n",
    "slr = ScratchLogisticRegression(iter, alpha, False, True)\n",
    "slr.fit(X_train_transformed, y_train, X_test_transformed, y_test)\n",
    "\n",
    "\n"
   ]
  },
  {
   "cell_type": "markdown",
   "metadata": {},
   "source": [
    "### 【問題5】学習と推定"
   ]
  },
  {
   "cell_type": "code",
   "execution_count": 31,
   "metadata": {},
   "outputs": [
    {
     "name": "stdout",
     "output_type": "stream",
     "text": [
      "λ: 0.01 bias: False α: 1e-05 \n",
      "\n",
      "0 1 [1] [0.59306483]\n",
      "1 0 [0] [0.38405907]\n",
      "2 1 [1] [0.58384926]\n",
      "3 0 [0] [0.3413388]\n",
      "4 0 [0] [0.24379152]\n",
      "5 1 [1] [0.80084683]\n",
      "6 1 [1] [0.60844277]\n",
      "7 0 [0] [0.45800492]\n",
      "8 0 [0] [0.4992457]\n",
      "9 1 [1] [0.71529724]\n",
      "10 0 [0] [0.41646899]\n",
      "11 0 [0] [0.39899609]\n",
      "12 0 [0] [0.40135732]\n",
      "13 1 [1] [0.60729949]\n",
      "14 1 [1] [0.78765038]\n",
      "15 1 [1] [0.7277179]\n",
      "16 1 [1] [0.52027577]\n",
      "17 1 [1] [0.67945624]\n",
      "18 1 [0] [0.48502681]\n",
      "19 1 [1] [0.64900435]\n",
      "20 1 [1] [0.78174319]\n",
      "21 0 [0] [0.15799548]\n",
      "22 1 [1] [0.65168724]\n",
      "23 0 [0] [0.34505222]\n",
      "24 0 [0] [0.28701455]\n"
     ]
    }
   ],
   "source": [
    "#機械学習による予測(predict)\n",
    "y_pred_proba = slr.predict_proba(X_test_transformed)\n",
    "y_pred = slr.predict(X_test_transformed)\n",
    "\n",
    "n_samples = X_test.shape[0]\n",
    "print(\"λ:\", slr.param_lambda, \"bias:\", slr.bias, \"α:\", alpha, \"\\n\")\n",
    "\n",
    "for i in range(n_samples):\n",
    "    print(i, y_test[i], y_pred[i], y_pred_proba[i])"
   ]
  },
  {
   "cell_type": "code",
   "execution_count": 224,
   "metadata": {},
   "outputs": [],
   "source": [
    "#損失関数の表示\n",
    "#for i in range(slr.iter):\n",
    "#    print(i, slr.loss[i], slr.val_loss[i])"
   ]
  },
  {
   "cell_type": "markdown",
   "metadata": {},
   "source": [
    "### 【問題6】学習曲線のプロット"
   ]
  },
  {
   "cell_type": "code",
   "execution_count": 15,
   "metadata": {},
   "outputs": [
    {
     "name": "stdout",
     "output_type": "stream",
     "text": [
      "λ: 0.01 bias: False α: 1e-05\n"
     ]
    },
    {
     "data": {
      "image/png": "[encoded data removed]",
      "text/plain": [
       "<Figure size 432x288 with 1 Axes>"
      ]
     },
     "metadata": {
      "needs_background": "light"
     },
     "output_type": "display_data"
    }
   ],
   "source": [
    "#グラフ描画\n",
    "print(\"λ:\", slr.param_lambda, \"bias:\", slr.bias, \"α:\", alpha)\n",
    "graph_num = range(slr.iter)\n",
    "plt.scatter(graph_num, slr.loss, label='train_loss')\n",
    "plt.scatter(graph_num, slr.val_loss, marker=\"+\",label='val_loss')\n",
    "plt.xlabel(\"iter\")\n",
    "plt.ylabel(\"loss\")\n",
    "plt.legend()\n",
    "plt.show()"
   ]
  },
  {
   "cell_type": "markdown",
   "metadata": {},
   "source": [
    "### 【問題7】決定領域の可視化\n",
    "決定領域を可視化してください。"
   ]
  },
  {
   "cell_type": "code",
   "execution_count": 28,
   "metadata": {},
   "outputs": [
    {
     "data": {
      "image/png": "[encoded data removed]",
      "text/plain": [
       "<Figure size 432x288 with 1 Axes>"
      ]
     },
     "metadata": {
      "needs_background": "light"
     },
     "output_type": "display_data"
    }
   ],
   "source": [
    "import matplotlib.pyplot as plt\n",
    "from matplotlib.colors import ListedColormap\n",
    "import matplotlib.patches as mpatches\n",
    "\n",
    "def decision_region(X, y, model, step=0.01, title='decision region', xlabel='xlabel', ylabel='ylabel', target_names=['sepal_length', 'sepal_width']):\n",
    "    \n",
    "    # setting\n",
    "    scatter_color = ['red', 'blue']\n",
    "    contourf_color = ['pink', 'skyblue']\n",
    "    n_class = 2\n",
    "    \n",
    "    # pred\n",
    "    mesh_f0, mesh_f1  = np.meshgrid(np.arange(np.min(X[:,0])-0.5, np.max(X[:,0])+0.5, step), np.arange(np.min(X[:,1])-0.5, np.max(X[:,1])+0.5, step))\n",
    "    mesh = np.c_[np.ravel(mesh_f0),np.ravel(mesh_f1)]\n",
    "    y_pred = slr.predict(mesh).reshape(mesh_f0.shape)\n",
    "\n",
    "    # plot\n",
    "    plt.title(title)\n",
    "    plt.xlabel(xlabel)\n",
    "    plt.ylabel(ylabel)\n",
    "    plt.contourf(mesh_f0, mesh_f1, y_pred, n_class-1, cmap=ListedColormap(contourf_color))\n",
    "    plt.contour(mesh_f0, mesh_f1, y_pred, n_class-1, colors='y', linewidths=3, alpha=0.5)\n",
    "    for i, target in enumerate(set(y)):\n",
    "        plt.scatter(X[y==target][:, 0], X[y==target][:, 1], s=80, color=scatter_color[i], label=target_names[i], marker='o')\n",
    "\n",
    "    patches = [mpatches.Patch(color=scatter_color[i], label=target_names[i]) for i in range(n_class)]\n",
    "    plt.legend(handles=patches)\n",
    "    plt.legend()\n",
    "    plt.show()\n",
    "\n",
    "y_train = y_train.flatten() \n",
    "decision_region(X_train_transformed[:, :2], y_train, slr.fit(X_train_transformed[:, :2], y_train))"
   ]
  },
  {
   "cell_type": "code",
   "execution_count": null,
   "metadata": {},
   "outputs": [],
   "source": []
  },
  {
   "cell_type": "code",
   "execution_count": null,
   "metadata": {},
   "outputs": [],
   "source": []
  }
 ],
 "metadata": {
  "kernelspec": {
   "display_name": "Python 3",
   "language": "python",
   "name": "python3"
  },
  "language_info": {
   "codemirror_mode": {
    "name": "ipython",
    "version": 3
   },
   "file_extension": ".py",
   "mimetype": "text/x-python",
   "name": "python",
   "nbconvert_exporter": "python",
   "pygments_lexer": "ipython3",
   "version": "3.8.3"
  }
 },
 "nbformat": 4,
 "nbformat_minor": 4
}
