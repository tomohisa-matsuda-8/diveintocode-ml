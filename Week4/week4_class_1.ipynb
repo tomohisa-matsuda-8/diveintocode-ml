{
 "cells": [
  {
   "cell_type": "markdown",
   "metadata": {},
   "source": [
    "### 【問題1】コンペティション内容の確認\n",
    "コンペティションのOverviewページ読み、「Home Credit Default Risk」について以下の観点について確認してください。\n",
    "\n",
    "何を学習し、何を予測するのか\n",
    "\n",
    "　→application_train.csvの特徴量からデフォルトリスクを学習する。\n",
    "\n",
    "　　デフォルト発生有無が不明な特徴量から、デフォルトリスクを予測する。\n",
    " \n",
    "どのようなファイルを作りKaggleに提出するか\n",
    "\n",
    "　→application_test.csvの各IDについて、デフォルト確率を記載したcsvファイル\n",
    "\n",
    "提出されたものはどういった指標値で評価されるのか\n",
    "\n",
    "　→提出したcsvカーブから算出されるROCカーブにより評価（スコアリング）される。"
   ]
  },
  {
   "cell_type": "markdown",
   "metadata": {},
   "source": [
    "### 【問題2】学習と検証\n",
    "\n",
    "データを簡単に分析、前処理し、学習、検証するまでの一連の流れを作成・実行してください。\n",
    "\n",
    "検証にはこのコンペティションで使用される評価指標を用いるようにしてください。学習に用いる手法は指定しません。\n",
    "\n",
    "###  【問題3】テストデータに対する推定\n",
    "テストデータ（application_test.csv）に対して推定を行い、Kaggleに提出を行ってください。\n",
    "\n",
    "正しく提出が行えていれば、精度は低くても構いません。\n",
    "\n",
    "### 【問題4】特徴量エンジニアリング\n",
    "精度を上げるために以下のような観点で 特徴量エンジニアリング（Feature Engineering） を行ってください。\n",
    "\n",
    "どの特徴量を使うか\n",
    "\n",
    "どう前処理をするか\n",
    "\n",
    "→下記①以降のコードを参照ください。"
   ]
  },
  {
   "cell_type": "code",
   "execution_count": 198,
   "metadata": {
    "colab": {
     "base_uri": "https://localhost:8080/"
    },
    "id": "DJQ7MKwwE5wm",
    "outputId": "763a5911-88c0-42fa-f7a1-44a8779b3379"
   },
   "outputs": [],
   "source": [
    "import matplotlib.pyplot as plt\n",
    "%matplotlib inline\n",
    "import numpy as np\n",
    "import pandas as pd\n",
    "import seaborn as sns\n",
    "from sklearn.linear_model import LinearRegression\n",
    "from sklearn.neighbors import KNeighborsClassifier\n",
    "from sklearn.model_selection import train_test_split\n",
    "from sklearn.ensemble import RandomForestRegressor\n",
    "from sklearn.svm import SVR\n",
    "from sklearn.tree import DecisionTreeClassifier\n",
    "from sklearn.ensemble import RandomForestRegressor\n",
    "from sklearn.ensemble import RandomForestClassifier\n",
    "\n",
    "\n",
    "#csvファイルの読込\n",
    "df_train = pd.read_csv(\"application_train.csv\")\n",
    "df_test = pd.read_csv(\"application_test.csv\")"
   ]
  },
  {
   "cell_type": "markdown",
   "metadata": {},
   "source": [
    "### ①説明変数：\"AMT_INCOME_TOTAL\"を使用して最近傍法でデフォルト予測　Kaggleスコア：0.50339"
   ]
  },
  {
   "cell_type": "code",
   "execution_count": 163,
   "metadata": {
    "colab": {
     "base_uri": "https://localhost:8080/",
     "height": 575
    },
    "id": "OTQVDv-CFI93",
    "outputId": "de3e653a-808e-497d-bae4-4734e8e46356"
   },
   "outputs": [
    {
     "data": {
      "text/plain": [
       "KNeighborsClassifier()"
      ]
     },
     "execution_count": 163,
     "metadata": {},
     "output_type": "execute_result"
    }
   ],
   "source": [
    "#使用する特徴量\n",
    "features = [\"AMT_INCOME_TOTAL\"]\n",
    "\n",
    "#trainデータの特徴量と目的変数の抽出\n",
    "X = np.array(df_train.loc[:,features])\n",
    "y = np.array(df_train.loc[:,[\"TARGET\"]])\n",
    "X_train, X_test, y_train, y_test = train_test_split(X, y, test_size=0.25)\n",
    "\n",
    "#最近傍法によるtrainデータの学習\n",
    "kn = KNeighborsClassifier()\n",
    "y_train = y_train.flatten()\n",
    "kn.fit(X_train, y_train) \n"
   ]
  },
  {
   "cell_type": "code",
   "execution_count": 162,
   "metadata": {
    "colab": {
     "base_uri": "https://localhost:8080/"
    },
    "id": "t7bjBA7kkJBr",
    "outputId": "93484ab6-c0a0-4ee6-e99a-8b985e2da052"
   },
   "outputs": [],
   "source": [
    "#testデータの特徴量の抽出\n",
    "X_test_features = np.array(df_test.loc[:,features])\n",
    "\n",
    "#testデータの特徴量からデフォルトリスクを予測\n",
    "y_pred = kn.predict_proba(X_test_features)\n",
    "\n",
    "#以下、Kaggle提出用データの作成\n",
    "df_X_test_ID = df_test.loc[:,[\"SK_ID_CURR\"]]\n",
    "df_y_pred = pd.DataFrame(y_pred[:,1])\n",
    "df_output = pd.concat([df_X_test_ID, df_y_pred], axis=1)\n",
    "df_output.columns = [\"SK_ID_CURR\", \"TARGET\"]\n",
    "df_output.to_csv('home_creditdata1.csv',index = False)"
   ]
  },
  {
   "cell_type": "markdown",
   "metadata": {},
   "source": [
    "### ②下記説明変数にて最近傍法でデフォルト予測 →　Kaggeスコア：0.51770\n",
    "\n",
    "・AMT_INCOME_TOTAL\n",
    "\n",
    "・REGION_RATING_CLIENT\n",
    "\n",
    "※前週の課題にて相関係数が比較的大きかった特徴量を加えていく。"
   ]
  },
  {
   "cell_type": "code",
   "execution_count": 167,
   "metadata": {
    "id": "HBbl3YQrd-Ch"
   },
   "outputs": [],
   "source": [
    "#使用する特徴量\n",
    "features = [\"AMT_INCOME_TOTAL\", \"REGION_RATING_CLIENT\"]\n",
    "\n",
    "#trainデータの特徴量と目的変数の抽出\n",
    "X = np.array(df_train.loc[:,features])\n",
    "y = np.array(df_train.loc[:,[\"TARGET\"]])\n",
    "X_train, X_test, y_train, y_test = train_test_split(X, y, test_size=0.25)\n",
    "\n",
    "#最近傍法によるtrainデータの学習\n",
    "kn = KNeighborsClassifier()\n",
    "y_train = y_train.flatten()\n",
    "kn.fit(X_train, y_train) \n",
    "\n",
    "#testデータの特徴量の抽出\n",
    "X_test_features = np.array(df_test.loc[:,features])\n",
    "\n",
    "#testデータの特徴量からデフォルトリスクを予測\n",
    "y_pred = kn.predict_proba(X_test_features)\n",
    "\n",
    "#以下、Kaggle提出用データの作成\n",
    "df_X_test_ID = df_test.loc[:,[\"SK_ID_CURR\"]]\n",
    "df_y_pred = pd.DataFrame(y_pred[:,1])\n",
    "df_output = pd.concat([df_X_test_ID, df_y_pred], axis=1)\n",
    "df_output.columns = [\"SK_ID_CURR\", \"TARGET\"]\n",
    "df_output.to_csv('home_creditdata2.csv',index = False)"
   ]
  },
  {
   "cell_type": "markdown",
   "metadata": {},
   "source": [
    "### ③下記説明変数にて最近傍法でデフォルト予測 →　Kaggleスコア：0.53038\n",
    "\n",
    "・AMT_INCOME_TOTAL\n",
    "\n",
    "・REGION_RATING_CLIENT\n",
    "\n",
    "・DAYS_BIRTH\n",
    "\n",
    "・DAYS_ID_PUBLISH"
   ]
  },
  {
   "cell_type": "code",
   "execution_count": 168,
   "metadata": {},
   "outputs": [],
   "source": [
    "#使用する特徴量\n",
    "features = [\"AMT_INCOME_TOTAL\", \"REGION_RATING_CLIENT\", \"DAYS_BIRTH\", \"DAYS_ID_PUBLISH\"]\n",
    "\n",
    "#trainデータの特徴量と目的変数の抽出\n",
    "X = np.array(df_train.loc[:,features])\n",
    "y = np.array(df_train.loc[:,[\"TARGET\"]])\n",
    "X_train, X_test, y_train, y_test = train_test_split(X, y, test_size=0.25)\n",
    "\n",
    "#最近傍法によるtrainデータの学習\n",
    "kn = KNeighborsClassifier()\n",
    "y_train = y_train.flatten()\n",
    "kn.fit(X_train, y_train) \n",
    "\n",
    "#testデータの特徴量の抽出\n",
    "X_test_features = np.array(df_test.loc[:,features])\n",
    "\n",
    "#testデータの特徴量からデフォルトリスクを予測\n",
    "y_pred = kn.predict_proba(X_test_features)\n",
    "\n",
    "#以下、Kaggle提出用データの作成\n",
    "df_X_test_ID = df_test.loc[:,[\"SK_ID_CURR\"]]\n",
    "df_y_pred = pd.DataFrame(y_pred[:,1])\n",
    "df_output = pd.concat([df_X_test_ID, df_y_pred], axis=1)\n",
    "df_output.columns = [\"SK_ID_CURR\", \"TARGET\"]\n",
    "df_output.to_csv('home_creditdata3.csv',index = False)"
   ]
  },
  {
   "cell_type": "markdown",
   "metadata": {},
   "source": [
    "### ④下記説明変数にて決定木でデフォルト予測 →　Kaggeスコア： 0.51569\n",
    "\n",
    "・AMT_INCOME_TOTAL\n",
    "\n",
    "・REGION_RATING_CLIENT\n",
    "\n",
    "・\"DAYS_BIRTH\"\n",
    "\n",
    "・\"DAYS_ID_PUBLISH\""
   ]
  },
  {
   "cell_type": "code",
   "execution_count": 175,
   "metadata": {},
   "outputs": [],
   "source": [
    "#使用する特徴量\n",
    "features = [\"AMT_INCOME_TOTAL\", \"REGION_RATING_CLIENT\", \"DAYS_BIRTH\", \"DAYS_ID_PUBLISH\"]\n",
    "\n",
    "#trainデータの特徴量と目的変数の抽出\n",
    "X = np.array(df_train.loc[:,features])\n",
    "y = np.array(df_train.loc[:,[\"TARGET\"]])\n",
    "X_train, X_test, y_train, y_test = train_test_split(X, y, test_size=0.25)\n",
    "\n",
    "#決定木によるtrainデータの学習\n",
    "tree = DecisionTreeClassifier()\n",
    "y_train = y_train.flatten()\n",
    "tree.fit(X_train, y_train) \n",
    "\n",
    "#testデータの特徴量の抽出\n",
    "X_test_features = np.array(df_test.loc[:,features])\n",
    "\n",
    "#testデータの特徴量からデフォルトリスクを予測\n",
    "y_pred = tree.predict_proba(X_test_features)\n",
    "\n",
    "#以下、Kaggle提出用データの作成\n",
    "df_X_test_ID = df_test.loc[:,[\"SK_ID_CURR\"]]\n",
    "df_y_pred = pd.DataFrame(y_pred[:,1])\n",
    "df_output = pd.concat([df_X_test_ID, df_y_pred], axis=1)\n",
    "df_output.columns = [\"SK_ID_CURR\", \"TARGET\"]\n",
    "df_output.to_csv('home_creditdata4.csv',index = False)"
   ]
  },
  {
   "cell_type": "markdown",
   "metadata": {},
   "source": [
    "### ⑤下記説明変数にてランダムフォレストでデフォルト予測 →　スコア： 0.55743\n",
    "\n",
    "・AMT_INCOME_TOTAL\n",
    "\n",
    "・REGION_RATING_CLIENT\n",
    "\n",
    "・DAYS_BIRTH\n",
    "\n",
    "・DAYS_ID_PUBLISH"
   ]
  },
  {
   "cell_type": "code",
   "execution_count": 179,
   "metadata": {},
   "outputs": [],
   "source": [
    "#使用する特徴量\n",
    "features = [\"AMT_INCOME_TOTAL\", \"REGION_RATING_CLIENT\", \"DAYS_BIRTH\", \"DAYS_ID_PUBLISH\"]\n",
    "\n",
    "#trainデータの特徴量と目的変数の抽出\n",
    "X = np.array(df_train.loc[:,features])\n",
    "y = np.array(df_train.loc[:,[\"TARGET\"]])\n",
    "X_train, X_test, y_train, y_test = train_test_split(X, y, test_size=0.25)\n",
    "\n",
    "#ランダムフォレストによるtrainデータの学習\n",
    "random_forest = RandomForestClassifier()\n",
    "y_train = y_train.flatten()\n",
    "random_forest.fit(X_train, y_train) \n",
    "\n",
    "#testデータの特徴量の抽出\n",
    "X_test_features = np.array(df_test.loc[:,features])\n",
    "\n",
    "#testデータの特徴量からデフォルトリスクを予測\n",
    "y_pred = random_forest.predict_proba(X_test_features)\n",
    "\n",
    "#以下、Kaggle提出用データの作成\n",
    "df_X_test_ID = df_test.loc[:,[\"SK_ID_CURR\"]]\n",
    "df_y_pred = pd.DataFrame(y_pred[:,1])\n",
    "df_output = pd.concat([df_X_test_ID, df_y_pred], axis=1)\n",
    "df_output.columns = [\"SK_ID_CURR\", \"TARGET\"]\n",
    "df_output.to_csv('home_creditdata5.csv',index = False)"
   ]
  },
  {
   "cell_type": "markdown",
   "metadata": {},
   "source": [
    "### ⑥下記説明変数にてランダムフォレストでデフォルト予測 →　Kaggleスコア： 0.56807\n",
    "\n",
    "・AMT_INCOME_TOTAL\n",
    "\n",
    "・REGION_RATING_CLIENT\n",
    "\n",
    "・DAYS_BIRTH\n",
    "\n",
    "・DAYS_ID_PUBLISH\n",
    "\n",
    "・CODE_GENDER（前処理として'M' → 0, 'F' → 1, 'XNA' → 2 で置換して計算に使用する）"
   ]
  },
  {
   "cell_type": "code",
   "execution_count": 223,
   "metadata": {},
   "outputs": [],
   "source": [
    "#使用する特徴量\n",
    "features = [\"CODE_GENDER\", \"AMT_INCOME_TOTAL\", \"REGION_RATING_CLIENT\", \"DAYS_BIRTH\", \"DAYS_ID_PUBLISH\"]\n",
    "\n",
    "#特徴量の調整：CODE_GENDER（'M' → 0, 'F' → 1 で置換して計算に使用する）\n",
    "df_train_GEN01 = df_train.replace({'CODE_GENDER': {\"M\": 0, \"F\": 1, \"XNA\": 2}})\n",
    "df_test_GEN01 = df_test.replace({'CODE_GENDER': {\"M\": 0, \"F\": 1, \"XNA\": 2}})\n",
    "\n",
    "#trainデータの特徴量と目的変数の抽出\n",
    "X = np.array(df_t0.56807rain_GEN01.loc[:,features])\n",
    "y = np.array(df_train_GEN01.loc[:,[\"TARGET\"]])\n",
    "X_train, X_test, y_train, y_test = train_test_split(X, y, test_size=0.25)\n",
    "\n",
    "#ランダムフォレストによるtrainデータの学習\n",
    "random_forest = RandomForestClassifier()\n",
    "y_train = y_train.flatten()\n",
    "random_forest.fit(X_train, y_train) \n",
    "\n",
    "#testデータの特徴量の抽出\n",
    "X_test_features = np.array(df_test_GEN01.loc[:,features])\n",
    "\n",
    "#testデータの特徴量からデフォルトリスクを予測\n",
    "y_pred = random_forest.predict_proba(X_test_features)\n",
    "\n",
    "#以下、Kaggle提出用データの作成\n",
    "df_X_test_ID = df_test.loc[:,[\"SK_ID_CURR\"]]\n",
    "df_y_pred = pd.DataFrame(y_pred[:,1])\n",
    "df_output = pd.concat([df_X_test_ID, df_y_pred], axis=1)\n",
    "df_output.columns = [\"SK_ID_CURR\", \"TARGET\"]\n",
    "df_output.to_csv('home_creditdata6.csv',index = False)"
   ]
  },
  {
   "cell_type": "code",
   "execution_count": null,
   "metadata": {},
   "outputs": [],
   "source": []
  },
  {
   "cell_type": "code",
   "execution_count": null,
   "metadata": {},
   "outputs": [],
   "source": []
  }
 ],
 "metadata": {
  "colab": {
   "collapsed_sections": [],
   "name": "week4_class.ipynb",
   "provenance": []
  },
  "kernelspec": {
   "display_name": "Python 3",
   "language": "python",
   "name": "python3"
  },
  "language_info": {
   "codemirror_mode": {
    "name": "ipython",
    "version": 3
   },
   "file_extension": ".py",
   "mimetype": "text/x-python",
   "name": "python",
   "nbconvert_exporter": "python",
   "pygments_lexer": "ipython3",
   "version": "3.8.3"
  }
 },
 "nbformat": 4,
 "nbformat_minor": 4
}
