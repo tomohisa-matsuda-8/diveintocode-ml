{
 "cells": [
  {
   "cell_type": "markdown",
   "metadata": {},
   "source": [
    "### 【問題1】練習のために特徴量の選択\n",
    "データセットを読み込んだ後、説明変数GrLivAreaとYearBuilt、目的変数SalePriceをそれぞれ抜き出してください。"
   ]
  },
  {
   "cell_type": "code",
   "execution_count": 19,
   "metadata": {},
   "outputs": [
    {
     "name": "stdout",
     "output_type": "stream",
     "text": [
      "平均 : [4.86 3.31 1.45 0.22]\n",
      "分散 : [0.0764 0.0849 0.0105 0.0056]\n"
     ]
    }
   ],
   "source": [
    "import numpy as np\n",
    "from sklearn.preprocessing import StandardScaler\n",
    "from sklearn.datasets import load_iris\n",
    "data = load_iris()\n",
    "X = data.data[:10]\n",
    "\n",
    "scaler = StandardScaler()\n",
    "scaler.fit(X)\n",
    "print(\"平均 :\", scaler.mean_)\n",
    "print(\"分散 :\", scaler.var_)\n",
    "X_std = scaler.transform(X)\n",
    "\n"
   ]
  },
  {
   "cell_type": "markdown",
   "metadata": {},
   "source": [
    "### 【問題1】これまで利用してきたクラスの列挙\n",
    "クラスを使う際はインスタンス化を行うことと、クラスの命名法がわかりました。\n",
    "\n",
    "この情報を元に、これまでの課題で利用してきたコードの中でどのようなクラスがあったかを答えてください。\n",
    "\n",
    "Pandas、matplotlib、scikit-learnからそれぞれ1つ以上見つけてください。"
   ]
  },
  {
   "cell_type": "markdown",
   "metadata": {},
   "source": [
    "→　Pandas : DataFrame()\n",
    "\n",
    "　 matplot.lib : ListedColormap()\n",
    "\n",
    "　 Scikit-learn : KNeighborsClassifier()"
   ]
  },
  {
   "cell_type": "markdown",
   "metadata": {},
   "source": [
    "### 【問題2】これまで利用してきたメソッドやインスタンス変数の列挙\n",
    "\n",
    "これまでの課題で利用してきたコードの中でどのようなメソッドやインスタンス変数があったかを答えてください。\n",
    "\n",
    "最低でもそれぞれ5つ以上答えてください。"
   ]
  },
  {
   "cell_type": "markdown",
   "metadata": {},
   "source": [
    "【インスタンス変数】\n",
    "\n",
    "numpy: ndarray.T\n",
    "\n",
    "numpy: ndarray.shape\n",
    "\n",
    "numpy: ndarray.dtype\n",
    "\n",
    "numpy: ndarray.ndim\n",
    "\n",
    "Pandas : 列名の抽出var = df.columns.values\n",
    "\n",
    "【メソッド】\n",
    "\n",
    "numpy: array.tolist()\n",
    "\n",
    "numpy: array.flatten()\n",
    "\n",
    "numpy: array.reshape()\n",
    "\n",
    "numpy: np.array()\n",
    "\n",
    "numpy: np.arange()\n",
    "\n",
    "numpy: np.concatenate((a, b), axis=1)\n",
    "\n",
    "list.clear()\n",
    "\n",
    "list.pop()\n",
    "\n",
    "list.remove()"
   ]
  },
  {
   "cell_type": "markdown",
   "metadata": {},
   "source": [
    "### 【問題3】標準化クラスをスクラッチで作成\n",
    "\n",
    "理解をより深めるため、StandardScalerをスクラッチで作成しましょう。\n",
    "\n",
    "scikit-learnは使わず、NumPyなどを活用して標準化の計算を記述します。\n",
    "\n",
    "具体的にはfitメソッドとtransformメソッドを作ります。"
   ]
  },
  {
   "cell_type": "code",
   "execution_count": 28,
   "metadata": {},
   "outputs": [
    {
     "name": "stdout",
     "output_type": "stream",
     "text": [
      "平均 : [4.86 3.31 1.45 0.22]\n",
      "分散 : [0.0764 0.0849 0.0105 0.0056]\n",
      "[[  3.14136126   2.23792697  -4.76190476  -3.57142857]\n",
      " [  0.52356021  -3.65135453  -4.76190476  -3.57142857]\n",
      " [ -2.09424084  -1.29564193 -14.28571429  -3.57142857]\n",
      " [ -3.40314136  -2.47349823   4.76190476  -3.57142857]\n",
      " [  1.83246073   3.41578327  -4.76190476  -3.57142857]\n",
      " [  7.06806283   6.94935218  23.80952381  32.14285714]\n",
      " [ -3.40314136   1.06007067  -4.76190476  14.28571429]\n",
      " [  1.83246073   1.06007067   4.76190476  -3.57142857]\n",
      " [ -6.02094241  -4.82921084  -4.76190476  -3.57142857]\n",
      " [  0.52356021  -2.47349823   4.76190476 -21.42857143]]\n"
     ]
    }
   ],
   "source": [
    "import numpy as np\n",
    "from sklearn.datasets import load_iris\n",
    "\n",
    "class ScratchStandardScaler():\n",
    "    def fit(self, X):\n",
    "        self.mean_ = np.mean(X, axis=0)\n",
    "        self.var_ = np.var(X, axis=0) \n",
    "        \n",
    "    def transform(self, X):\n",
    "        X_scaled = (X - self.mean_) / self.var_\n",
    "        return X_scaled\n",
    "    \n",
    "data = load_iris()\n",
    "X = data.data[:10]\n",
    "\n",
    "scratch_scaler = ScratchStandardScaler()\n",
    "scratch_scaler.fit(X)\n",
    "print(\"平均 : {}\".format(scratch_scaler.mean_))\n",
    "print(\"分散 : {}\".format(scratch_scaler.var_))\n",
    "X_std = scratch_scaler.transform(X)\n",
    "print(X_std)\n"
   ]
  },
  {
   "cell_type": "markdown",
   "metadata": {},
   "source": [
    "### 【問題4】 四則演算を行うクラスの作成\n",
    "\n",
    "上記ExampleClassは足し算のメソッドを持っていますが、これに引き算、掛け算、割り算のメソッドを加えてください。\n",
    "\n",
    "コンストラクタに入力されたvalueが文字列や配列など数値以外だった場合にはエラーを出すようにしてください。\n",
    "\n",
    "クラス名や説明文も適切に書き換えてください。"
   ]
  },
  {
   "cell_type": "code",
   "execution_count": 55,
   "metadata": {},
   "outputs": [
    {
     "name": "stdout",
     "output_type": "stream",
     "text": [
      "<class 'float'>\n",
      "初期値11.1が設定されました\n",
      "value : 11.1\n",
      "value : 14.1\n",
      "value : 12.1\n",
      "value : 36.3\n",
      "value : 4.033333333333333\n"
     ]
    }
   ],
   "source": [
    "class ExampleClass():\n",
    "    \"\"\"\n",
    "    説明用の簡単なクラス\n",
    "    Parameters\n",
    "    ----------\n",
    "    value : float or int\n",
    "        初期値\n",
    "    Attributes\n",
    "    ----------\n",
    "    value : float or int\n",
    "        計算結果\n",
    "    \"\"\"\n",
    "    def __init__(self, value):\n",
    "        print(type(value))\n",
    "        if type(value) is int:\n",
    "            self.value = value\n",
    "            print(\"初期値{}が設定されました\".format(self.value))\n",
    "            \n",
    "        elif type(value) is float:\n",
    "            self.value = value\n",
    "            print(\"初期値{}が設定されました\".format(self.value))\n",
    "            \n",
    "        else:\n",
    "            raise ValueError(\"Inputted Number type is inappropriate. Please input 'int' or 'float'\")\n",
    "        \n",
    "    def add(self, value2):\n",
    "        \"\"\"\n",
    "        受け取った引数をself.valueに加える\n",
    "        \"\"\"\n",
    "        self.value += value2\n",
    "        \n",
    "    def subtract(self, value3):\n",
    "        \"\"\"\n",
    "        受け取った引数をself.valueから引く\n",
    "        \"\"\"\n",
    "        self.value -= value3\n",
    "\n",
    "    def multiply(self, value4):\n",
    "        \"\"\"\n",
    "        受け取った引数をself.valueに掛ける\n",
    "        \"\"\"\n",
    "        self.value *= value4\n",
    "        \n",
    "    def divide(self, value5):\n",
    "        \"\"\"\n",
    "        受け取った引数をself.valueに対して割る\n",
    "        \"\"\"\n",
    "        self.value /= value5\n",
    "        \n",
    "example = ExampleClass(11.1)\n",
    "print(\"value : {}\".format(example.value))\n",
    "example.add(3)\n",
    "print(\"value : {}\".format(example.value))\n",
    "example.subtract(2)\n",
    "print(\"value : {}\".format(example.value))\n",
    "example.multiply(3)\n",
    "print(\"value : {}\".format(example.value))\n",
    "example.divide(9)\n",
    "print(\"value : {}\".format(example.value))"
   ]
  },
  {
   "cell_type": "code",
   "execution_count": null,
   "metadata": {},
   "outputs": [],
   "source": []
  }
 ],
 "metadata": {
  "kernelspec": {
   "display_name": "Python 3",
   "language": "python",
   "name": "python3"
  },
  "language_info": {
   "codemirror_mode": {
    "name": "ipython",
    "version": 3
   },
   "file_extension": ".py",
   "mimetype": "text/x-python",
   "name": "python",
   "nbconvert_exporter": "python",
   "pygments_lexer": "ipython3",
   "version": "3.8.3"
  }
 },
 "nbformat": 4,
 "nbformat_minor": 4
}
